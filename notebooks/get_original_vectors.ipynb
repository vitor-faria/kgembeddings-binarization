{
  "nbformat": 4,
  "nbformat_minor": 0,
  "metadata": {
    "colab": {
      "provenance": [],
      "mount_file_id": "1FVQzGIrChgOUOU8AlcDdk9aSX9GGM5FF",
      "authorship_tag": "ABX9TyN2WDWpgzfZiqCSbCUNroO2",
      "include_colab_link": true
    },
    "kernelspec": {
      "name": "python3",
      "display_name": "Python 3"
    },
    "language_info": {
      "name": "python"
    }
  },
  "cells": [
    {
      "cell_type": "markdown",
      "metadata": {
        "id": "view-in-github",
        "colab_type": "text"
      },
      "source": [
        "<a href=\"https://colab.research.google.com/github/vitor-faria/kgembeddings-binarization/blob/main/notebooks/get_original_vectors.ipynb\" target=\"_parent\"><img src=\"https://colab.research.google.com/assets/colab-badge.svg\" alt=\"Open In Colab\"/></a>"
      ]
    },
    {
      "cell_type": "markdown",
      "source": [
        "## Download original vectors"
      ],
      "metadata": {
        "id": "VSoKfxDVQ0pb"
      }
    },
    {
      "cell_type": "code",
      "source": [
        "!wget https://data.dws.informatik.uni-mannheim.de/kgvec2go/dbpedia/2021-09/classic-rdf2vec-cbow-200/vectors.txt -O rdf2vec-cbow-200.txt"
      ],
      "metadata": {
        "colab": {
          "base_uri": "https://localhost:8080/"
        },
        "id": "K6pO08_MFfNK",
        "outputId": "532be15e-ad3e-46a1-985d-71ce049723ac"
      },
      "execution_count": 1,
      "outputs": [
        {
          "output_type": "stream",
          "name": "stdout",
          "text": [
            "--2023-12-07 16:46:19--  https://data.dws.informatik.uni-mannheim.de/kgvec2go/dbpedia/2021-09/classic-rdf2vec-cbow-200/vectors.txt\n",
            "Resolving data.dws.informatik.uni-mannheim.de (data.dws.informatik.uni-mannheim.de)... 134.155.95.56\n",
            "Connecting to data.dws.informatik.uni-mannheim.de (data.dws.informatik.uni-mannheim.de)|134.155.95.56|:443... connected.\n",
            "HTTP request sent, awaiting response... 200 OK\n",
            "Length: 19999281123 (19G) [text/plain]\n",
            "Saving to: ‘rdf2vec-cbow-200.txt’\n",
            "\n",
            "rdf2vec-cbow-200.tx 100%[===================>]  18.62G  21.8MB/s    in 14m 49s \n",
            "\n",
            "2023-12-07 17:01:08 (21.5 MB/s) - ‘rdf2vec-cbow-200.txt’ saved [19999281123/19999281123]\n",
            "\n"
          ]
        }
      ]
    },
    {
      "cell_type": "markdown",
      "source": [
        "## Load vectors as Gensim models"
      ],
      "metadata": {
        "id": "mku8SZRGQ5mP"
      }
    },
    {
      "cell_type": "code",
      "source": [
        "from gensim.models import KeyedVectors\n",
        "from gensim.scripts.glove2word2vec import glove2word2vec"
      ],
      "metadata": {
        "id": "hGHEWDsBMDOm"
      },
      "execution_count": 2,
      "outputs": []
    },
    {
      "cell_type": "code",
      "source": [
        "word_vectors = KeyedVectors.load_word2vec_format(\n",
        "    'rdf2vec-cbow-200.txt',\n",
        "    no_header=True,\n",
        ")"
      ],
      "metadata": {
        "id": "yVg0gFicMqHD"
      },
      "execution_count": 4,
      "outputs": []
    },
    {
      "cell_type": "markdown",
      "source": [
        "## Retrieve GEval and DLCC entities to filter"
      ],
      "metadata": {
        "id": "ScQWYTLhROYX"
      }
    },
    {
      "cell_type": "code",
      "source": [
        "!git clone https://github.com/vitor-faria/kgembeddings-binarization.git binarizer"
      ],
      "metadata": {
        "colab": {
          "base_uri": "https://localhost:8080/"
        },
        "id": "qs0-t--TQkR3",
        "outputId": "85f283e1-8c8a-42fa-d77d-69689c6bc6ad"
      },
      "execution_count": 6,
      "outputs": [
        {
          "output_type": "stream",
          "name": "stdout",
          "text": [
            "Cloning into 'binarizer'...\n",
            "remote: Enumerating objects: 72, done.\u001b[K\n",
            "remote: Counting objects: 100% (72/72), done.\u001b[K\n",
            "remote: Compressing objects: 100% (63/63), done.\u001b[K\n",
            "remote: Total 72 (delta 19), reused 0 (delta 0), pack-reused 0\u001b[K\n",
            "Receiving objects: 100% (72/72), 10.70 MiB | 6.65 MiB/s, done.\n",
            "Resolving deltas: 100% (19/19), done.\n"
          ]
        }
      ]
    },
    {
      "cell_type": "code",
      "source": [
        "import pickle\n",
        "\n",
        "with open('binarizer/resources/entities/dlcc_entities.pickle', 'rb') as file:\n",
        "    dlcc_entities = pickle.load(file)\n",
        "\n",
        "with open('binarizer/resources/entities/geval_entities.pickle', 'rb') as file:\n",
        "    geval_entities = pickle.load(file)\n",
        "\n",
        "all_entities = dlcc_entities.union(geval_entities)"
      ],
      "metadata": {
        "id": "0AzGsnShQlxO"
      },
      "execution_count": 7,
      "outputs": []
    },
    {
      "cell_type": "markdown",
      "source": [
        "## Binarize using naïve approach (mean)"
      ],
      "metadata": {
        "id": "6JpyYAwaQ-6N"
      }
    },
    {
      "cell_type": "code",
      "source": [
        "import numpy as np\n",
        "\n",
        "avg_embeddings = np.mean(word_vectors.vectors, axis=0)\n",
        "print(len(avg_embeddings))\n",
        "avg_embeddings"
      ],
      "metadata": {
        "colab": {
          "base_uri": "https://localhost:8080/"
        },
        "id": "hS-fmANbQGzk",
        "outputId": "368abcd1-bd04-42b7-d607-3a0571805632"
      },
      "execution_count": 5,
      "outputs": [
        {
          "output_type": "stream",
          "name": "stdout",
          "text": [
            "200\n"
          ]
        },
        {
          "output_type": "execute_result",
          "data": {
            "text/plain": [
              "array([ 2.66459398e-02, -4.05602306e-02,  6.76070713e-03,  5.85619882e-02,\n",
              "       -1.87901273e-01,  1.01783574e-01, -8.62669200e-02,  1.86304413e-02,\n",
              "        1.09569766e-01,  3.90231051e-02,  2.62588505e-02, -4.17908281e-02,\n",
              "        6.78481460e-02,  3.98457982e-02,  7.19418079e-02,  8.03387687e-02,\n",
              "        3.32491170e-03,  9.18856487e-02, -2.27381196e-02, -9.93786678e-02,\n",
              "        1.18481264e-01, -1.56398028e-01, -5.99309616e-02, -9.92688984e-02,\n",
              "        2.32945699e-02,  2.85747480e-02,  3.04487050e-02,  9.09564346e-02,\n",
              "       -5.15962169e-02,  4.55833077e-02, -2.70870719e-02, -5.22377342e-02,\n",
              "        1.47228166e-01,  3.77177224e-02, -1.09447509e-01,  2.67860424e-02,\n",
              "        1.48335854e-02,  3.29882801e-02,  3.74631099e-02,  2.37042550e-02,\n",
              "       -3.55878025e-02,  6.52843043e-02, -2.24691462e-02,  1.09397732e-01,\n",
              "        1.62295718e-02, -1.07029431e-01, -5.39515950e-02,  1.11807272e-01,\n",
              "        1.71718776e-01, -8.45847577e-02,  6.49282262e-02,  2.50496678e-02,\n",
              "       -1.29109919e-01, -5.80417253e-02, -1.04872860e-01,  1.63487062e-01,\n",
              "       -6.31952891e-03, -5.14655560e-02,  1.19160647e-02, -7.61497114e-03,\n",
              "        2.11572479e-02, -2.65670773e-02,  1.78040847e-01,  1.71040706e-02,\n",
              "       -5.69212288e-02,  2.91821398e-02, -2.42678393e-02,  4.29896861e-02,\n",
              "        1.38249144e-01,  5.13453037e-02, -1.00666493e-01,  7.03603402e-02,\n",
              "       -8.72371942e-02, -1.33717328e-01, -5.99592179e-02, -9.14347246e-02,\n",
              "        2.26236805e-02,  1.25500187e-01,  4.68638502e-02,  4.25889082e-02,\n",
              "        2.71801725e-02,  1.37451263e-02,  1.23763708e-02,  1.41443372e-01,\n",
              "       -1.79597512e-02,  1.23340376e-02,  9.39428248e-03,  9.26871300e-02,\n",
              "        1.68053985e-01, -3.10333241e-02,  9.24712494e-02, -5.97004443e-02,\n",
              "       -1.11711264e-01,  1.05307005e-01, -3.46136913e-02,  2.27546766e-02,\n",
              "        3.09694167e-02, -3.05385143e-02, -1.09548770e-01,  9.13354196e-03,\n",
              "        7.18015432e-03,  6.44333065e-02,  8.90633687e-02,  4.23748791e-02,\n",
              "        3.51593681e-02,  1.68617651e-01, -7.67200766e-03, -5.20731730e-04,\n",
              "        1.70790870e-02,  5.01120612e-02,  1.28009737e-01, -4.41270731e-02,\n",
              "        2.84809731e-02,  7.27407187e-02,  1.27770573e-01, -9.50985998e-02,\n",
              "       -4.58909683e-02, -7.75906518e-02,  2.59488635e-02, -1.27976239e-01,\n",
              "        3.16840634e-02, -1.27555486e-02, -4.29318212e-02,  5.60011081e-02,\n",
              "       -1.28804846e-02,  7.58806318e-02,  3.81600186e-02,  1.21676631e-03,\n",
              "        6.29434884e-02,  1.66948829e-02,  1.33992154e-02, -3.61246318e-02,\n",
              "       -5.38892858e-02, -7.23121362e-03, -8.09898823e-02,  6.11328334e-02,\n",
              "       -1.13221593e-01, -1.44335017e-01,  4.92862053e-02, -2.38426849e-02,\n",
              "        6.80504516e-02,  1.31070033e-01,  4.44148015e-03, -1.15464002e-01,\n",
              "       -1.63230330e-01, -6.24813102e-02,  6.24557808e-02,  6.59817923e-03,\n",
              "        3.77781899e-03,  1.67189747e-01, -1.23256087e-01,  4.04850021e-03,\n",
              "        4.76524048e-02, -1.40051842e-02, -7.10628480e-02,  5.24841547e-02,\n",
              "       -2.59213988e-02,  2.42021587e-02,  8.05160925e-02,  1.34850487e-01,\n",
              "       -6.25091195e-02,  6.90294951e-02,  1.34683833e-01,  4.61446047e-02,\n",
              "        3.74169461e-02, -3.99672277e-02, -6.99244905e-03, -9.47577953e-02,\n",
              "        9.01279822e-02,  6.86277915e-03, -3.83723527e-02, -8.02376866e-02,\n",
              "        4.84066196e-02, -5.30635491e-02,  1.50992349e-01,  1.77504942e-02,\n",
              "       -6.12541102e-02, -9.08180606e-03, -3.05397287e-02, -7.17840791e-02,\n",
              "        6.66626841e-02,  6.73674420e-02, -1.43993497e-01, -2.38477085e-02,\n",
              "        1.30669490e-01,  7.36071467e-02, -3.04750283e-03, -6.65327683e-02,\n",
              "        3.41715775e-02, -4.00018394e-02,  1.33761698e-02, -6.11629151e-02,\n",
              "       -4.65065055e-02, -9.08961073e-02,  1.56709418e-01, -4.34524603e-02,\n",
              "       -4.75443751e-02,  2.73643788e-02, -1.83950324e-04, -3.28633189e-02],\n",
              "      dtype=float32)"
            ]
          },
          "metadata": {},
          "execution_count": 5
        }
      ]
    },
    {
      "cell_type": "markdown",
      "source": [
        "## Write file and save in Google Drive"
      ],
      "metadata": {
        "id": "4Qdbpfj8RW-x"
      }
    },
    {
      "cell_type": "code",
      "source": [
        "with open('rdf2vec-cbow-200-original.txt', \"w\") as file:\n",
        "    rows_count = 0\n",
        "    for i in range(len(word_vectors.index_to_key)):\n",
        "        token = word_vectors.index_to_key[i]\n",
        "        if token.startswith('dbr:'):\n",
        "            token = token.replace('dbr:', 'http://dbpedia.org/resource/')\n",
        "        if token in all_entities:\n",
        "            vector_string = ' '.join([str(x) for x in word_vectors.vectors[i].tolist()])\n",
        "            file.write(f'{token} {vector_string} \\n')\n",
        "            rows_count += 1\n",
        "\n",
        "rows_count"
      ],
      "metadata": {
        "colab": {
          "base_uri": "https://localhost:8080/"
        },
        "id": "Mv6FShxbV8aT",
        "outputId": "2a9fa235-e20b-4665-ae5c-1b9db6aac2e3"
      },
      "execution_count": 8,
      "outputs": [
        {
          "output_type": "execute_result",
          "data": {
            "text/plain": [
              "393595"
            ]
          },
          "metadata": {},
          "execution_count": 8
        }
      ]
    },
    {
      "cell_type": "code",
      "source": [
        "!cp rdf2vec-cbow-200-original.txt \"/content/drive/MyDrive/Master/Mannheim/Master-Thesis/Embeddings\""
      ],
      "metadata": {
        "id": "gSIJhKL3YCyV"
      },
      "execution_count": 10,
      "outputs": []
    },
    {
      "cell_type": "code",
      "source": [
        "bin_model_vectors = np.greater_equal(word_vectors.vectors, avg_embeddings)\n",
        "\n",
        "with open('rdf2vec-cbow-200-avgbin.txt', \"w\") as file:\n",
        "    rows_count = 0\n",
        "    for i in range(len(word_vectors.index_to_key)):\n",
        "        token = word_vectors.index_to_key[i]\n",
        "        if token.startswith('dbr:'):\n",
        "            token = token.replace('dbr:', 'http://dbpedia.org/resource/')\n",
        "        if token in all_entities:\n",
        "            bin_vector_string = ' '.join([str(x) for x in (bin_model_vectors[i]*1).tolist()])\n",
        "            file.write(f'{token} {bin_vector_string} \\n')\n",
        "            rows_count += 1\n",
        "\n",
        "rows_count"
      ],
      "metadata": {
        "colab": {
          "base_uri": "https://localhost:8080/"
        },
        "id": "kFQCIBJVV_Xy",
        "outputId": "f78522e4-9435-48a3-d6c8-c0c32dd2a133"
      },
      "execution_count": 9,
      "outputs": [
        {
          "output_type": "execute_result",
          "data": {
            "text/plain": [
              "393595"
            ]
          },
          "metadata": {},
          "execution_count": 9
        }
      ]
    },
    {
      "cell_type": "code",
      "source": [
        "!cp rdf2vec-cbow-200-avgbin.txt \"/content/drive/MyDrive/Master/Mannheim/Master-Thesis/Embeddings\""
      ],
      "metadata": {
        "id": "q1hKp9cuZioK"
      },
      "execution_count": 11,
      "outputs": []
    },
    {
      "cell_type": "markdown",
      "source": [
        "## Delete variables and temp files"
      ],
      "metadata": {
        "id": "gtz6RpHLRc5b"
      }
    },
    {
      "cell_type": "code",
      "source": [
        "del word_vectors\n",
        "del avg_embeddings\n",
        "del bin_model_vectors"
      ],
      "metadata": {
        "id": "BPQniRXWZvO_"
      },
      "execution_count": 12,
      "outputs": []
    },
    {
      "cell_type": "code",
      "source": [
        "!rm rdf2vec-cbow-200.txt\n",
        "!rm rdf2vec-cbow-200-original.txt\n",
        "!rm rdf2vec-cbow-200-avgbin.txt"
      ],
      "metadata": {
        "id": "6T1oxMulaHxp"
      },
      "execution_count": 14,
      "outputs": []
    },
    {
      "cell_type": "markdown",
      "source": [
        "## Generic code to be used for all source vectors"
      ],
      "metadata": {
        "id": "0gzDUCGORj1f"
      }
    },
    {
      "cell_type": "code",
      "source": [
        "name = 'rdf2vec-cbow-oa-200'\n",
        "\n",
        "if not os.path.isfile(f'{name}.txt'):\n",
        "    !wget {source} -O {name}.txt\n",
        "\n",
        "try:\n",
        "    word_vectors = KeyedVectors.load_word2vec_format(\n",
        "        f'{name}.txt',\n",
        "        no_header=True,\n",
        "    )\n",
        "except:\n",
        "    word_vectors = KeyedVectors.load_word2vec_format(\n",
        "        f'{name}.txt',\n",
        "        no_header=False,\n",
        "        unicode_errors='ignore',\n",
        "    )\n",
        "\n",
        "print('number of entities:', len(word_vectors.index_to_key))\n",
        "avg_embeddings = np.mean(word_vectors.vectors, axis=0)\n",
        "print('number of dimensions:', len(avg_embeddings))\n",
        "\n",
        "bin_model_vectors = np.greater_equal(word_vectors.vectors, avg_embeddings)\n",
        "\n",
        "with open(f'{name}-avgbin.txt', \"w\") as file:\n",
        "    rows_count = 0\n",
        "    for i in range(len(word_vectors.index_to_key)):\n",
        "        token = str(word_vectors.index_to_key[i])\n",
        "        if token.startswith('dbr:'):\n",
        "            token = token.replace('dbr:', 'http://dbpedia.org/resource/')\n",
        "        if token in all_entities:\n",
        "            bin_vector_string = ' '.join([str(x) for x in (bin_model_vectors[i]*1).tolist()])\n",
        "            file.write(f'{token} {bin_vector_string} \\n')\n",
        "            rows_count += 1\n",
        "\n",
        "print(f'{name}-avgbin.txt has {rows_count} entities')\n",
        "\n",
        "!cp {name}-avgbin.txt \"/content/drive/MyDrive/Master/Mannheim/Master-Thesis/Embeddings\"\n",
        "del bin_model_vectors\n",
        "!rm {name}-avgbin.txt\n",
        "\n",
        "with open(f'{name}-original.txt', \"w\") as file:\n",
        "    rows_count = 0\n",
        "    for i in range(len(word_vectors.index_to_key)):\n",
        "        token = str(word_vectors.index_to_key[i])\n",
        "        if token.startswith('dbr:'):\n",
        "            token = token.replace('dbr:', 'http://dbpedia.org/resource/')\n",
        "        if token in all_entities:\n",
        "            vector_string = ' '.join([str(x) for x in word_vectors.vectors[i].tolist()])\n",
        "            file.write(f'{token} {vector_string} \\n')\n",
        "            rows_count += 1\n",
        "\n",
        "print(f'{name}-original.txt has {rows_count} entities')\n",
        "!cp {name}-original.txt \"/content/drive/MyDrive/Master/Mannheim/Master-Thesis/Embeddings\"\n",
        "!rm {name}.txt\n",
        "del word_vectors\n",
        "del avg_embeddings\n",
        "!rm {name}-original.txt"
      ],
      "metadata": {
        "colab": {
          "base_uri": "https://localhost:8080/"
        },
        "id": "lPBhXYQdpdMl",
        "outputId": "1e6af05c-1bfe-426b-a0e9-18c8f7b7043b"
      },
      "execution_count": 22,
      "outputs": [
        {
          "output_type": "stream",
          "name": "stdout",
          "text": [
            "rdf2vec-cbow-oa-200-avgbin.txt has 370369 entities\n",
            "rdf2vec-cbow-oa-200-original.txt has 370369 entities\n"
          ]
        }
      ]
    },
    {
      "cell_type": "markdown",
      "source": [
        "## For loop to repeat for all embeddings"
      ],
      "metadata": {
        "id": "y-d1PbE_RtzN"
      }
    },
    {
      "cell_type": "code",
      "execution_count": 23,
      "metadata": {
        "id": "lTxXFqSWEw3K"
      },
      "outputs": [],
      "source": [
        "embeddings_source_files = {\n",
        "    # \"rdf2vec-cbow-200\": \"https://data.dws.informatik.uni-mannheim.de/kgvec2go/dbpedia/2021-09/classic-rdf2vec-cbow-200/vectors.txt\",\n",
        "    # \"rdf2vec-cbow-oa-200\": \"https://data.dws.informatik.uni-mannheim.de/kgvec2go/dbpedia/2021-09/classic-rdf2vec-cbow-oa-200/cwindow200_classic.txt\",\n",
        "    \"rdf2vec-sg-200\": \"https://data.dws.informatik.uni-mannheim.de/kgvec2go/dbpedia/2021-09/classic-rdf2vec-sg-200/vectors.txt\",\n",
        "    \"rdf2vec-sg-oa-200\": \"https://data.dws.informatik.uni-mannheim.de/kgvec2go/dbpedia/2021-09/classic-rdf2vec-sg-oa-200/sgpos200_classic.txt\",\n",
        "    \"non-rdf2vec-ComplEx\": \"https://data.dws.informatik.uni-mannheim.de/kgvec2go/dbpedia/2021-09/non-rdf2vec/vectors_dbpedia_ComplEx.txt\",\n",
        "    \"non-rdf2vec-DistMult\": \"https://data.dws.informatik.uni-mannheim.de/kgvec2go/dbpedia/2021-09/non-rdf2vec/vectors_dbpedia_DistMult.txt\",\n",
        "    \"non-rdf2vec-RESCAL\": \"https://data.dws.informatik.uni-mannheim.de/kgvec2go/dbpedia/2021-09/non-rdf2vec/vectors_dbpedia_RESCAL.txt\",\n",
        "    \"non-rdf2vec-RotatE\": \"https://data.dws.informatik.uni-mannheim.de/kgvec2go/dbpedia/2021-09/non-rdf2vec/vectors_dbpedia_RotatE.txt\",\n",
        "    \"non-rdf2vec-TransE-L1\": \"https://data.dws.informatik.uni-mannheim.de/kgvec2go/dbpedia/2021-09/non-rdf2vec/vectors_dbpedia_TransE-L1.txt\",\n",
        "    \"non-rdf2vec-TransE-L2\": \"https://data.dws.informatik.uni-mannheim.de/kgvec2go/dbpedia/2021-09/non-rdf2vec/vectors_dbpedia_TransE-L2.txt\",\n",
        "    \"non-rdf2vec-TransR\": \"https://data.dws.informatik.uni-mannheim.de/kgvec2go/dbpedia/2021-09/non-rdf2vec/vectors_dbpedia_TransR.txt\",\n",
        "}"
      ]
    },
    {
      "cell_type": "code",
      "source": [
        "import os.path\n",
        "\n",
        "\n",
        "for name, source in embeddings_source_files.items():\n",
        "    if not os.path.isfile(f'{name}.txt'):\n",
        "        !wget {source} -O {name}.txt\n",
        "\n",
        "    try:\n",
        "        word_vectors = KeyedVectors.load_word2vec_format(\n",
        "            f'{name}.txt',\n",
        "            no_header=True,\n",
        "        )\n",
        "    except:\n",
        "        word_vectors = KeyedVectors.load_word2vec_format(\n",
        "            f'{name}.txt',\n",
        "            no_header=False,\n",
        "            unicode_errors='ignore',\n",
        "        )\n",
        "\n",
        "    print('number of entities:', len(word_vectors.index_to_key))\n",
        "    avg_embeddings = np.mean(word_vectors.vectors, axis=0)\n",
        "    print('number of dimensions:', len(avg_embeddings))\n",
        "\n",
        "    bin_model_vectors = np.greater_equal(word_vectors.vectors, avg_embeddings)\n",
        "\n",
        "    with open(f'{name}-avgbin.txt', \"w\") as file:\n",
        "        rows_count = 0\n",
        "        for i in range(len(word_vectors.index_to_key)):\n",
        "            token = str(word_vectors.index_to_key[i])\n",
        "            if token.startswith('dbr:'):\n",
        "                token = token.replace('dbr:', 'http://dbpedia.org/resource/')\n",
        "            if token in all_entities:\n",
        "                bin_vector_string = ' '.join([str(x) for x in (bin_model_vectors[i]*1).tolist()])\n",
        "                file.write(f'{token} {bin_vector_string} \\n')\n",
        "                rows_count += 1\n",
        "\n",
        "    print(f'{name}-avgbin.txt has {rows_count} entities')\n",
        "\n",
        "    !cp {name}-avgbin.txt \"/content/drive/MyDrive/Master/Mannheim/Master-Thesis/Embeddings\"\n",
        "    del bin_model_vectors\n",
        "    !rm {name}-avgbin.txt\n",
        "\n",
        "    with open(f'{name}-original.txt', \"w\") as file:\n",
        "        rows_count = 0\n",
        "        for i in range(len(word_vectors.index_to_key)):\n",
        "            token = str(word_vectors.index_to_key[i])\n",
        "            if token.startswith('dbr:'):\n",
        "                token = token.replace('dbr:', 'http://dbpedia.org/resource/')\n",
        "            if token in all_entities:\n",
        "                vector_string = ' '.join([str(x) for x in word_vectors.vectors[i].tolist()])\n",
        "                file.write(f'{token} {vector_string} \\n')\n",
        "                rows_count += 1\n",
        "\n",
        "    print(f'{name}-original.txt has {rows_count} entities')\n",
        "    !cp {name}-original.txt \"/content/drive/MyDrive/Master/Mannheim/Master-Thesis/Embeddings\"\n",
        "    !rm {name}.txt\n",
        "    !rm {name}-original.txt\n",
        "    del word_vectors\n",
        "    del avg_embeddings\n",
        ""
      ],
      "metadata": {
        "colab": {
          "base_uri": "https://localhost:8080/"
        },
        "id": "kx2LbGiWa5lz",
        "outputId": "80d6517a-06c2-43c6-e416-bbca586494ca"
      },
      "execution_count": 24,
      "outputs": [
        {
          "metadata": {
            "tags": null
          },
          "name": "stdout",
          "output_type": "stream",
          "text": [
            "--2023-12-07 19:05:09--  https://data.dws.informatik.uni-mannheim.de/kgvec2go/dbpedia/2021-09/classic-rdf2vec-sg-200/vectors.txt\n",
            "Resolving data.dws.informatik.uni-mannheim.de (data.dws.informatik.uni-mannheim.de)... 134.155.95.56\n",
            "Connecting to data.dws.informatik.uni-mannheim.de (data.dws.informatik.uni-mannheim.de)|134.155.95.56|:443... connected.\n",
            "HTTP request sent, awaiting response... 200 OK\n",
            "Length: 19551833216 (18G) [text/plain]\n",
            "Saving to: ‘rdf2vec-sg-200.txt’\n",
            "\n",
            "rdf2vec-sg-200.txt  100%[===================>]  18.21G  21.7MB/s    in 14m 16s \n",
            "\n",
            "2023-12-07 19:19:26 (21.8 MB/s) - ‘rdf2vec-sg-200.txt’ saved [19551833216/19551833216]\n",
            "\n",
            "number of entities: 7954946\n",
            "number of dimensions: 200\n",
            "rdf2vec-sg-200-avgbin.txt has 380581 entities\n",
            "rdf2vec-sg-200-original.txt has 380581 entities\n",
            "--2023-12-07 19:46:16--  https://data.dws.informatik.uni-mannheim.de/kgvec2go/dbpedia/2021-09/classic-rdf2vec-sg-oa-200/sgpos200_classic.txt\n",
            "Resolving data.dws.informatik.uni-mannheim.de (data.dws.informatik.uni-mannheim.de)... 134.155.95.56\n",
            "Connecting to data.dws.informatik.uni-mannheim.de (data.dws.informatik.uni-mannheim.de)|134.155.95.56|:443... connected.\n",
            "HTTP request sent, awaiting response... 200 OK\n",
            "Length: 15899092162 (15G) [text/plain]\n",
            "Saving to: ‘rdf2vec-sg-oa-200.txt’\n",
            "\n",
            "rdf2vec-sg-oa-200.t 100%[===================>]  14.81G  21.9MB/s    in 11m 35s \n",
            "\n",
            "2023-12-07 19:57:52 (21.8 MB/s) - ‘rdf2vec-sg-oa-200.txt’ saved [15899092162/15899092162]\n",
            "\n"
          ]
        },
        {
          "metadata": {
            "tags": null
          },
          "name": "stderr",
          "output_type": "stream",
          "text": [
            "WARNING:gensim.models.keyedvectors:duplicate word 'https://www.izukyu.co.jp/train/station_detail.php%3Fstation=������������' in word2vec file, ignoring all but first\n"
          ]
        },
        {
          "output_type": "stream",
          "name": "stdout",
          "text": [
            "number of entities: 8145384\n",
            "number of dimensions: 200\n",
            "rdf2vec-sg-oa-200-avgbin.txt has 370369 entities\n",
            "rdf2vec-sg-oa-200-original.txt has 370369 entities\n",
            "--2023-12-07 20:24:03--  https://data.dws.informatik.uni-mannheim.de/kgvec2go/dbpedia/2021-09/non-rdf2vec/vectors_dbpedia_ComplEx.txt\n",
            "Resolving data.dws.informatik.uni-mannheim.de (data.dws.informatik.uni-mannheim.de)... 134.155.95.56\n",
            "Connecting to data.dws.informatik.uni-mannheim.de (data.dws.informatik.uni-mannheim.de)|134.155.95.56|:443... connected.\n",
            "HTTP request sent, awaiting response... 200 OK\n",
            "Length: 19847092817 (18G) [text/plain]\n",
            "Saving to: ‘non-rdf2vec-ComplEx.txt’\n",
            "\n",
            "non-rdf2vec-ComplEx 100%[===================>]  18.48G  22.1MB/s    in 14m 29s \n",
            "\n",
            "2023-12-07 20:38:32 (21.8 MB/s) - ‘non-rdf2vec-ComplEx.txt’ saved [19847092817/19847092817]\n",
            "\n",
            "number of entities: 8499982\n",
            "number of dimensions: 200\n",
            "non-rdf2vec-ComplEx-avgbin.txt has 393699 entities\n",
            "non-rdf2vec-ComplEx-original.txt has 393699 entities\n",
            "--2023-12-07 21:06:42--  https://data.dws.informatik.uni-mannheim.de/kgvec2go/dbpedia/2021-09/non-rdf2vec/vectors_dbpedia_DistMult.txt\n",
            "Resolving data.dws.informatik.uni-mannheim.de (data.dws.informatik.uni-mannheim.de)... 134.155.95.56\n",
            "Connecting to data.dws.informatik.uni-mannheim.de (data.dws.informatik.uni-mannheim.de)|134.155.95.56|:443... connected.\n",
            "HTTP request sent, awaiting response... 200 OK\n",
            "Length: 19816675415 (18G) [text/plain]\n",
            "Saving to: ‘non-rdf2vec-DistMult.txt’\n",
            "\n",
            "non-rdf2vec-DistMul 100%[===================>]  18.46G  22.3MB/s    in 14m 18s \n",
            "\n",
            "2023-12-07 21:21:01 (22.0 MB/s) - ‘non-rdf2vec-DistMult.txt’ saved [19816675415/19816675415]\n",
            "\n",
            "number of entities: 8499982\n",
            "number of dimensions: 200\n",
            "non-rdf2vec-DistMult-avgbin.txt has 393699 entities\n",
            "non-rdf2vec-DistMult-original.txt has 393699 entities\n",
            "--2023-12-07 21:49:08--  https://data.dws.informatik.uni-mannheim.de/kgvec2go/dbpedia/2021-09/non-rdf2vec/vectors_dbpedia_RESCAL.txt\n",
            "Resolving data.dws.informatik.uni-mannheim.de (data.dws.informatik.uni-mannheim.de)... 134.155.95.56\n",
            "Connecting to data.dws.informatik.uni-mannheim.de (data.dws.informatik.uni-mannheim.de)|134.155.95.56|:443... connected.\n",
            "HTTP request sent, awaiting response... 200 OK\n",
            "Length: 20389328375 (19G) [text/plain]\n",
            "Saving to: ‘non-rdf2vec-RESCAL.txt’\n",
            "\n",
            "non-rdf2vec-RESCAL. 100%[===================>]  18.99G  22.4MB/s    in 14m 54s \n",
            "\n",
            "2023-12-07 22:04:04 (21.7 MB/s) - ‘non-rdf2vec-RESCAL.txt’ saved [20389328375/20389328375]\n",
            "\n",
            "number of entities: 8499982\n",
            "number of dimensions: 200\n",
            "non-rdf2vec-RESCAL-avgbin.txt has 393699 entities\n",
            "non-rdf2vec-RESCAL-original.txt has 393699 entities\n",
            "--2023-12-07 22:32:22--  https://data.dws.informatik.uni-mannheim.de/kgvec2go/dbpedia/2021-09/non-rdf2vec/vectors_dbpedia_RotatE.txt\n",
            "Resolving data.dws.informatik.uni-mannheim.de (data.dws.informatik.uni-mannheim.de)... 134.155.95.56\n",
            "Connecting to data.dws.informatik.uni-mannheim.de (data.dws.informatik.uni-mannheim.de)|134.155.95.56|:443... connected.\n",
            "HTTP request sent, awaiting response... 200 OK\n",
            "Length: 20713001237 (19G) [text/plain]\n",
            "Saving to: ‘non-rdf2vec-RotatE.txt’\n",
            "\n",
            "non-rdf2vec-RotatE. 100%[===================>]  19.29G  22.1MB/s    in 15m 5s  \n",
            "\n",
            "2023-12-07 22:47:28 (21.8 MB/s) - ‘non-rdf2vec-RotatE.txt’ saved [20713001237/20713001237]\n",
            "\n",
            "number of entities: 8499982\n",
            "number of dimensions: 200\n",
            "non-rdf2vec-RotatE-avgbin.txt has 393699 entities\n",
            "non-rdf2vec-RotatE-original.txt has 393699 entities\n",
            "--2023-12-07 23:16:18--  https://data.dws.informatik.uni-mannheim.de/kgvec2go/dbpedia/2021-09/non-rdf2vec/vectors_dbpedia_TransE-L1.txt\n",
            "Resolving data.dws.informatik.uni-mannheim.de (data.dws.informatik.uni-mannheim.de)... 134.155.95.56\n",
            "Connecting to data.dws.informatik.uni-mannheim.de (data.dws.informatik.uni-mannheim.de)|134.155.95.56|:443... connected.\n",
            "HTTP request sent, awaiting response... 200 OK\n",
            "Length: 21108865745 (20G) [text/plain]\n",
            "Saving to: ‘non-rdf2vec-TransE-L1.txt’\n",
            "\n",
            "non-rdf2vec-TransE- 100%[===================>]  19.66G  22.0MB/s    in 15m 21s \n",
            "\n",
            "2023-12-07 23:31:41 (21.8 MB/s) - ‘non-rdf2vec-TransE-L1.txt’ saved [21108865745/21108865745]\n",
            "\n",
            "number of entities: 8499982\n",
            "number of dimensions: 200\n",
            "non-rdf2vec-TransE-L1-avgbin.txt has 393699 entities\n",
            "non-rdf2vec-TransE-L1-original.txt has 393699 entities\n",
            "--2023-12-08 00:00:17--  https://data.dws.informatik.uni-mannheim.de/kgvec2go/dbpedia/2021-09/non-rdf2vec/vectors_dbpedia_TransE-L2.txt\n",
            "Resolving data.dws.informatik.uni-mannheim.de (data.dws.informatik.uni-mannheim.de)... 134.155.95.56\n",
            "Connecting to data.dws.informatik.uni-mannheim.de (data.dws.informatik.uni-mannheim.de)|134.155.95.56|:443... connected.\n",
            "HTTP request sent, awaiting response... 200 OK\n",
            "Length: 19594481800 (18G) [text/plain]\n",
            "Saving to: ‘non-rdf2vec-TransE-L2.txt’\n",
            "\n",
            "non-rdf2vec-TransE- 100%[===================>]  18.25G  21.7MB/s    in 14m 24s \n",
            "\n",
            "2023-12-08 00:14:42 (21.6 MB/s) - ‘non-rdf2vec-TransE-L2.txt’ saved [19594481800/19594481800]\n",
            "\n",
            "number of entities: 8499982\n",
            "number of dimensions: 200\n",
            "non-rdf2vec-TransE-L2-avgbin.txt has 393699 entities\n",
            "non-rdf2vec-TransE-L2-original.txt has 393699 entities\n",
            "--2023-12-08 00:42:35--  https://data.dws.informatik.uni-mannheim.de/kgvec2go/dbpedia/2021-09/non-rdf2vec/vectors_dbpedia_TransR.txt\n",
            "Resolving data.dws.informatik.uni-mannheim.de (data.dws.informatik.uni-mannheim.de)... 134.155.95.56\n",
            "Connecting to data.dws.informatik.uni-mannheim.de (data.dws.informatik.uni-mannheim.de)|134.155.95.56|:443... connected.\n",
            "HTTP request sent, awaiting response... 200 OK\n",
            "Length: 21492780304 (20G) [text/plain]\n",
            "Saving to: ‘non-rdf2vec-TransR.txt’\n",
            "\n",
            "non-rdf2vec-TransR. 100%[===================>]  20.02G  22.1MB/s    in 15m 45s \n",
            "\n",
            "2023-12-08 00:58:21 (21.7 MB/s) - ‘non-rdf2vec-TransR.txt’ saved [21492780304/21492780304]\n",
            "\n",
            "number of entities: 8499982\n",
            "number of dimensions: 200\n",
            "non-rdf2vec-TransR-avgbin.txt has 393699 entities\n",
            "non-rdf2vec-TransR-original.txt has 393699 entities\n"
          ]
        }
      ]
    }
  ]
}