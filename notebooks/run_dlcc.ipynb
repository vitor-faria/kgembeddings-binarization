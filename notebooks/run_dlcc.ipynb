{
 "cells": [
  {
   "cell_type": "markdown",
   "metadata": {},
   "source": [
    "# Run DLCC experiments\n",
    "\n",
    "This notebook consists of running the DLCC Evaluation Framework with DBpedia gold standards on a list of previously computed embedding files (obtained with the notebook `get_vectors_pipeline.ipynb`). Results are analyzed in a separate notebook (`analyze_dlcc.ipynb`).\n",
    "\n",
    "### Setup before running this notebook for the first time:\n",
    "\n",
    "1. Clone the DL TC Generator repo (from Portisch et al.) to the folder `dlcc_testcollections`. The DBpedia gold standard files are located in `results/v1/dbpedia`.\n",
    "\n",
    "```\n",
    "git clone https://github.com/janothan/DL-TC-Generator.git dlcc_testcollections\n",
    "```\n",
    "\n",
    "2. Clone the DLCC evaluation framework to the folder `dlcc_evaluation_framework`.\n",
    "\n",
    "```\n",
    "git clone https://github.com/janothan/dl-evaluation-framework.git dlcc_evaluation_framework\n",
    "```\n",
    "\n",
    "3. Move this notebook, the complete dbpedia folder, and the complete embeddings folder to `dlcc_evaluation_framework`\n",
    "\n",
    "4. Uncomment the embedding variants to run the experiments. The complete execution of all 55 variants may take 12 to 24 hours. Results will be saved in a newly created `results` folder"
   ]
  },
  {
   "cell_type": "code",
   "execution_count": 1,
   "metadata": {},
   "outputs": [],
   "source": [
    "from datetime import datetime \n",
    "import time\n",
    "from dl_evaluation_framework.evaluation_manager import EvaluationManager, VectorTuple\n",
    "import warnings\n",
    "warnings.filterwarnings('ignore')\n",
    "\n",
    "\n",
    "embedding_models = [\n",
    "#     'rdf2vec-cbow',\n",
    "#     'rdf2vec-cbow-oa',\n",
    "#     'rdf2vec-sg',\n",
    "#     'rdf2vec-sg-oa',\n",
    "#     'non-rdf2vec-ComplEx',\n",
    "#     'non-rdf2vec-DistMult',\n",
    "#     'non-rdf2vec-RESCAL',\n",
    "#     'non-rdf2vec-RotatE',\n",
    "#     'non-rdf2vec-TransE-L1',\n",
    "#     'non-rdf2vec-TransE-L2',\n",
    "#     'non-rdf2vec-TransR',\n",
    "]\n",
    "\n",
    "model_variants = [\n",
    "#     '-200-original',\n",
    "#     '-200-avgbin',\n",
    "#     '-128-autoencoded',\n",
    "#     '-256-autoencoded',\n",
    "#     '-512-autoencoded',\n",
    "]\n",
    "\n",
    "embedding_txt_filenames = [em+mv for mv in model_variants for em in embedding_models]\n",
    "\n",
    "vlist = [VectorTuple(vector_name=embedding, vector_path=f\"embeddings/{embedding}.txt\") for embedding in embedding_txt_filenames]\n",
    "\n",
    "test_directory = \"dbpedia/\"\n",
    "\n",
    "em = EvaluationManager(test_directory=test_directory)\n",
    "\n",
    "start_time = datetime.now()\n",
    "em.evaluate(vector_names_and_files=vlist)\n",
    "end_time = datetime.now()\n",
    "\n",
    "print(f\"Finished DLCC for all embeddings. Took {end_time - start_time}\")"
   ]
  },
  {
   "cell_type": "code",
   "execution_count": null,
   "metadata": {},
   "outputs": [],
   "source": []
  }
 ],
 "metadata": {
  "kernelspec": {
   "display_name": "Python 3",
   "language": "python",
   "name": "python3"
  },
  "language_info": {
   "codemirror_mode": {
    "name": "ipython",
    "version": 3
   },
   "file_extension": ".py",
   "mimetype": "text/x-python",
   "name": "python",
   "nbconvert_exporter": "python",
   "pygments_lexer": "ipython3",
   "version": "3.8.3"
  }
 },
 "nbformat": 4,
 "nbformat_minor": 5
}