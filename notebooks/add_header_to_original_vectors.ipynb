{
  "nbformat": 4,
  "nbformat_minor": 0,
  "metadata": {
    "colab": {
      "provenance": [],
      "mount_file_id": "1ZiHzNs9Gf_4092spwCRcXy0S110xKjmM",
      "authorship_tag": "ABX9TyOTps2eCABc5xsVh9JwtJgp",
      "include_colab_link": true
    },
    "kernelspec": {
      "name": "python3",
      "display_name": "Python 3"
    },
    "language_info": {
      "name": "python"
    }
  },
  "cells": [
    {
      "cell_type": "markdown",
      "metadata": {
        "id": "view-in-github",
        "colab_type": "text"
      },
      "source": [
        "<a href=\"https://colab.research.google.com/github/vitor-faria/kgembeddings-binarization/blob/main/notebooks/add_header_to_original_vectors.ipynb\" target=\"_parent\"><img src=\"https://colab.research.google.com/assets/colab-badge.svg\" alt=\"Open In Colab\"/></a>"
      ]
    },
    {
      "cell_type": "markdown",
      "source": [
        "## Load vectors as Gensim models"
      ],
      "metadata": {
        "id": "mku8SZRGQ5mP"
      }
    },
    {
      "cell_type": "code",
      "source": [
        "from gensim.models import KeyedVectors"
      ],
      "metadata": {
        "id": "hGHEWDsBMDOm"
      },
      "execution_count": 1,
      "outputs": []
    },
    {
      "cell_type": "code",
      "source": [
        "embeddings_source_files = {\n",
        "    \"rdf2vec-cbow-200\": \"https://data.dws.informatik.uni-mannheim.de/kgvec2go/dbpedia/2021-09/classic-rdf2vec-cbow-200/vectors.txt\", # NO HEADER, 8156429\n",
        "    \"rdf2vec-cbow-oa-200\": \"https://data.dws.informatik.uni-mannheim.de/kgvec2go/dbpedia/2021-09/classic-rdf2vec-cbow-oa-200/cwindow200_classic.txt\", # 8145384\n",
        "    \"rdf2vec-sg-200\": \"https://data.dws.informatik.uni-mannheim.de/kgvec2go/dbpedia/2021-09/classic-rdf2vec-sg-200/vectors.txt\", # NO HEADER, 7954946\n",
        "    \"rdf2vec-sg-oa-200\": \"https://data.dws.informatik.uni-mannheim.de/kgvec2go/dbpedia/2021-09/classic-rdf2vec-sg-oa-200/sgpos200_classic.txt\", # 8145384\n",
        "    \"non-rdf2vec-ComplEx\": \"https://data.dws.informatik.uni-mannheim.de/kgvec2go/dbpedia/2021-09/non-rdf2vec/vectors_dbpedia_ComplEx.txt\", # NO HEADER, 8499982\n",
        "    \"non-rdf2vec-DistMult\": \"https://data.dws.informatik.uni-mannheim.de/kgvec2go/dbpedia/2021-09/non-rdf2vec/vectors_dbpedia_DistMult.txt\", # NO HEADER, 8499982\n",
        "    \"non-rdf2vec-RESCAL\": \"https://data.dws.informatik.uni-mannheim.de/kgvec2go/dbpedia/2021-09/non-rdf2vec/vectors_dbpedia_RESCAL.txt\", # NO HEADER, 8499982\n",
        "    \"non-rdf2vec-RotatE\": \"https://data.dws.informatik.uni-mannheim.de/kgvec2go/dbpedia/2021-09/non-rdf2vec/vectors_dbpedia_RotatE.txt\", # NO HEADER, 8499982\n",
        "    \"non-rdf2vec-TransE-L1\": \"https://data.dws.informatik.uni-mannheim.de/kgvec2go/dbpedia/2021-09/non-rdf2vec/vectors_dbpedia_TransE-L1.txt\", # NO HEADER, 8499982\n",
        "    \"non-rdf2vec-TransE-L2\": \"https://data.dws.informatik.uni-mannheim.de/kgvec2go/dbpedia/2021-09/non-rdf2vec/vectors_dbpedia_TransE-L2.txt\", # NO HEADER, 8499982\n",
        "    \"non-rdf2vec-TransR\": \"https://data.dws.informatik.uni-mannheim.de/kgvec2go/dbpedia/2021-09/non-rdf2vec/vectors_dbpedia_TransR.txt\", # NO HEADER, 8499982\n",
        "}"
      ],
      "metadata": {
        "id": "KsS27DXA52tV"
      },
      "execution_count": null,
      "outputs": []
    },
    {
      "cell_type": "markdown",
      "source": [
        "## RDF2Vec CBOW"
      ],
      "metadata": {
        "id": "IBRwPWqsdJgt"
      }
    },
    {
      "cell_type": "code",
      "source": [
        "!wget https://data.dws.informatik.uni-mannheim.de/kgvec2go/dbpedia/2021-09/classic-rdf2vec-cbow-200/vectors.txt -O rdf2vec-cbow-200.txt"
      ],
      "metadata": {
        "id": "MSZxieK5dNUq"
      },
      "execution_count": null,
      "outputs": []
    },
    {
      "cell_type": "code",
      "source": [
        "word_vectors = KeyedVectors.load_word2vec_format(\n",
        "    'rdf2vec-cbow-200.txt',\n",
        "    no_header=True,\n",
        ")"
      ],
      "metadata": {
        "id": "75KIr3VxdPJf"
      },
      "execution_count": null,
      "outputs": []
    },
    {
      "cell_type": "code",
      "source": [
        "word_vectors.save_word2vec_format('rdf2vec-cbow-200-with-header.txt', write_header=True)"
      ],
      "metadata": {
        "id": "q7mtmJgddOT2"
      },
      "execution_count": null,
      "outputs": []
    },
    {
      "cell_type": "code",
      "source": [
        "!cp rdf2vec-cbow-200-with-header.txt \"/content/drive/MyDrive/Master/Mannheim/Master-Thesis/Embeddings\""
      ],
      "metadata": {
        "id": "WtTh6jSJdN8E"
      },
      "execution_count": null,
      "outputs": []
    },
    {
      "cell_type": "code",
      "source": [
        "del word_vectors\n",
        "!rm rdf2vec-cbow-200.txt"
      ],
      "metadata": {
        "id": "TnsB3kFMdNym"
      },
      "execution_count": null,
      "outputs": []
    },
    {
      "cell_type": "code",
      "source": [
        "!rm rdf2vec-cbow-200-with-header.txt"
      ],
      "metadata": {
        "id": "MxRMIMkWdNtD"
      },
      "execution_count": null,
      "outputs": []
    },
    {
      "cell_type": "markdown",
      "source": [
        "## RDF2Vec SG"
      ],
      "metadata": {
        "id": "BnUIDtvhseAg"
      }
    },
    {
      "cell_type": "code",
      "source": [
        "!wget https://data.dws.informatik.uni-mannheim.de/kgvec2go/dbpedia/2021-09/classic-rdf2vec-sg-200/vectors.txt -O rdf2vec-sg-200.txt"
      ],
      "metadata": {
        "colab": {
          "base_uri": "https://localhost:8080/"
        },
        "id": "K6pO08_MFfNK",
        "outputId": "672709e1-849f-48b6-9c51-60424bcf675f"
      },
      "execution_count": 1,
      "outputs": [
        {
          "output_type": "stream",
          "name": "stdout",
          "text": [
            "--2023-12-12 15:08:38--  https://data.dws.informatik.uni-mannheim.de/kgvec2go/dbpedia/2021-09/classic-rdf2vec-sg-200/vectors.txt\n",
            "Resolving data.dws.informatik.uni-mannheim.de (data.dws.informatik.uni-mannheim.de)... 134.155.95.56\n",
            "Connecting to data.dws.informatik.uni-mannheim.de (data.dws.informatik.uni-mannheim.de)|134.155.95.56|:443... connected.\n",
            "HTTP request sent, awaiting response... 200 OK\n",
            "Length: 19551833216 (18G) [text/plain]\n",
            "Saving to: ‘rdf2vec-sg-200.txt’\n",
            "\n",
            "rdf2vec-sg-200.txt  100%[===================>]  18.21G  23.0MB/s    in 13m 46s \n",
            "\n",
            "2023-12-12 15:22:24 (22.6 MB/s) - ‘rdf2vec-sg-200.txt’ saved [19551833216/19551833216]\n",
            "\n"
          ]
        }
      ]
    },
    {
      "cell_type": "code",
      "source": [
        "word_vectors = KeyedVectors.load_word2vec_format(\n",
        "    'rdf2vec-sg-200.txt',\n",
        "    no_header=True,\n",
        ")"
      ],
      "metadata": {
        "id": "yVg0gFicMqHD"
      },
      "execution_count": 3,
      "outputs": []
    },
    {
      "cell_type": "code",
      "source": [
        "word_vectors.save_word2vec_format('rdf2vec-sg-200-with-header.txt', write_header=True)"
      ],
      "metadata": {
        "id": "ZckA6XDX-_w9"
      },
      "execution_count": 4,
      "outputs": []
    },
    {
      "cell_type": "code",
      "source": [
        "!cp rdf2vec-sg-200-with-header.txt \"/content/drive/MyDrive/Master/Mannheim/Master-Thesis/Embeddings\""
      ],
      "metadata": {
        "id": "tZ8opninZag6"
      },
      "execution_count": 5,
      "outputs": []
    },
    {
      "cell_type": "code",
      "source": [
        "del word_vectors\n",
        "!rm rdf2vec-sg-200.txt"
      ],
      "metadata": {
        "id": "6vKOVbHfFjY4"
      },
      "execution_count": 7,
      "outputs": []
    },
    {
      "cell_type": "code",
      "source": [
        "!rm rdf2vec-sg-200-with-header.txt"
      ],
      "metadata": {
        "id": "i5tpYq5Q6qTk"
      },
      "execution_count": 9,
      "outputs": []
    },
    {
      "cell_type": "markdown",
      "source": [
        "## ComplEx"
      ],
      "metadata": {
        "id": "fbYZUZF1sW4Y"
      }
    },
    {
      "cell_type": "code",
      "source": [
        "!wget https://data.dws.informatik.uni-mannheim.de/kgvec2go/dbpedia/2021-09/non-rdf2vec/vectors_dbpedia_ComplEx.txt -O non-rdf2vec-ComplEx.txt"
      ],
      "metadata": {
        "colab": {
          "base_uri": "https://localhost:8080/"
        },
        "id": "DCB2EkUv5xOk",
        "outputId": "5e0d20aa-d358-4bd8-9bf2-fa94e8c72dce"
      },
      "execution_count": 8,
      "outputs": [
        {
          "output_type": "stream",
          "name": "stdout",
          "text": [
            "--2023-12-12 16:42:17--  https://data.dws.informatik.uni-mannheim.de/kgvec2go/dbpedia/2021-09/non-rdf2vec/vectors_dbpedia_ComplEx.txt\n",
            "Resolving data.dws.informatik.uni-mannheim.de (data.dws.informatik.uni-mannheim.de)... 134.155.95.56\n",
            "Connecting to data.dws.informatik.uni-mannheim.de (data.dws.informatik.uni-mannheim.de)|134.155.95.56|:443... connected.\n",
            "HTTP request sent, awaiting response... 200 OK\n",
            "Length: 19847092817 (18G) [text/plain]\n",
            "Saving to: ‘non-rdf2vec-ComplEx.txt’\n",
            "\n",
            "non-rdf2vec-ComplEx 100%[===================>]  18.48G  23.1MB/s    in 13m 56s \n",
            "\n",
            "2023-12-12 16:56:13 (22.7 MB/s) - ‘non-rdf2vec-ComplEx.txt’ saved [19847092817/19847092817]\n",
            "\n"
          ]
        }
      ]
    },
    {
      "cell_type": "code",
      "source": [
        "word_vectors = KeyedVectors.load_word2vec_format(\n",
        "    'non-rdf2vec-ComplEx.txt',\n",
        "    no_header=True,\n",
        ")"
      ],
      "metadata": {
        "id": "0SvuHQf-6JSC"
      },
      "execution_count": 10,
      "outputs": []
    },
    {
      "cell_type": "code",
      "source": [
        "word_vectors.save_word2vec_format('non-rdf2vec-ComplEx-with-header.txt', write_header=True)"
      ],
      "metadata": {
        "id": "uOyTBopX6NI8"
      },
      "execution_count": 11,
      "outputs": []
    },
    {
      "cell_type": "code",
      "source": [
        "!cp non-rdf2vec-ComplEx-with-header.txt \"/content/drive/MyDrive/Master/Mannheim/Master-Thesis/Embeddings\""
      ],
      "metadata": {
        "id": "F34TGYqS6Rc8"
      },
      "execution_count": 12,
      "outputs": []
    },
    {
      "cell_type": "code",
      "source": [
        "del word_vectors\n",
        "!rm non-rdf2vec-ComplEx.txt"
      ],
      "metadata": {
        "id": "HprjOBCE6UZh"
      },
      "execution_count": 13,
      "outputs": []
    },
    {
      "cell_type": "code",
      "source": [
        "!rm non-rdf2vec-ComplEx-with-header.txt"
      ],
      "metadata": {
        "id": "rOxxuNR_TDK0"
      },
      "execution_count": 14,
      "outputs": []
    },
    {
      "cell_type": "markdown",
      "source": [
        "## DistMult"
      ],
      "metadata": {
        "id": "hqmwnsIAsSjb"
      }
    },
    {
      "cell_type": "code",
      "source": [
        "!wget https://data.dws.informatik.uni-mannheim.de/kgvec2go/dbpedia/2021-09/non-rdf2vec/vectors_dbpedia_DistMult.txt -O non-rdf2vec-DistMult.txt"
      ],
      "metadata": {
        "colab": {
          "base_uri": "https://localhost:8080/"
        },
        "id": "7wBYmTSLTTXn",
        "outputId": "3dd2bfd5-353e-41ba-eac2-6a6172b6ec68"
      },
      "execution_count": 15,
      "outputs": [
        {
          "output_type": "stream",
          "name": "stdout",
          "text": [
            "--2023-12-12 18:35:22--  https://data.dws.informatik.uni-mannheim.de/kgvec2go/dbpedia/2021-09/non-rdf2vec/vectors_dbpedia_DistMult.txt\n",
            "Resolving data.dws.informatik.uni-mannheim.de (data.dws.informatik.uni-mannheim.de)... 134.155.95.56\n",
            "Connecting to data.dws.informatik.uni-mannheim.de (data.dws.informatik.uni-mannheim.de)|134.155.95.56|:443... connected.\n",
            "HTTP request sent, awaiting response... 200 OK\n",
            "Length: 19816675415 (18G) [text/plain]\n",
            "Saving to: ‘non-rdf2vec-DistMult.txt’\n",
            "\n",
            "non-rdf2vec-DistMul 100%[===================>]  18.46G  23.8MB/s    in 13m 46s \n",
            "\n",
            "2023-12-12 18:49:10 (22.9 MB/s) - ‘non-rdf2vec-DistMult.txt’ saved [19816675415/19816675415]\n",
            "\n"
          ]
        }
      ]
    },
    {
      "cell_type": "code",
      "source": [
        "word_vectors = KeyedVectors.load_word2vec_format(\n",
        "    'non-rdf2vec-DistMult.txt',\n",
        "    no_header=True,\n",
        ")"
      ],
      "metadata": {
        "id": "-s2FM28bTY4t"
      },
      "execution_count": 16,
      "outputs": []
    },
    {
      "cell_type": "code",
      "source": [
        "word_vectors.save_word2vec_format('non-rdf2vec-DistMult-with-header.txt', write_header=True)"
      ],
      "metadata": {
        "id": "DU-5Cr5VTbIB"
      },
      "execution_count": 17,
      "outputs": []
    },
    {
      "cell_type": "code",
      "source": [
        "!cp non-rdf2vec-DistMult-with-header.txt \"/content/drive/MyDrive/Master/Mannheim/Master-Thesis/Embeddings\""
      ],
      "metadata": {
        "id": "Bf89IN1WTeA6"
      },
      "execution_count": 18,
      "outputs": []
    },
    {
      "cell_type": "code",
      "source": [
        "del word_vectors\n",
        "!rm non-rdf2vec-DistMult.txt"
      ],
      "metadata": {
        "id": "A-7swZh6Tg9N"
      },
      "execution_count": 19,
      "outputs": []
    },
    {
      "cell_type": "code",
      "source": [
        "!rm non-rdf2vec-DistMult-with-header.txt"
      ],
      "metadata": {
        "id": "MvwRARuWT8LY"
      },
      "execution_count": 20,
      "outputs": []
    },
    {
      "cell_type": "markdown",
      "source": [
        "## RESCAL"
      ],
      "metadata": {
        "id": "2leCoaTEsGf2"
      }
    },
    {
      "cell_type": "code",
      "source": [
        "!wget https://data.dws.informatik.uni-mannheim.de/kgvec2go/dbpedia/2021-09/non-rdf2vec/vectors_dbpedia_RESCAL.txt -O non-rdf2vec-RESCAL.txt"
      ],
      "metadata": {
        "colab": {
          "base_uri": "https://localhost:8080/"
        },
        "id": "rCMZY9R4ov4i",
        "outputId": "ced3a5c3-8c4e-469a-abce-bbb41ef4c74d"
      },
      "execution_count": 21,
      "outputs": [
        {
          "output_type": "stream",
          "name": "stdout",
          "text": [
            "--2023-12-12 20:07:33--  https://data.dws.informatik.uni-mannheim.de/kgvec2go/dbpedia/2021-09/non-rdf2vec/vectors_dbpedia_RESCAL.txt\n",
            "Resolving data.dws.informatik.uni-mannheim.de (data.dws.informatik.uni-mannheim.de)... 134.155.95.56\n",
            "Connecting to data.dws.informatik.uni-mannheim.de (data.dws.informatik.uni-mannheim.de)|134.155.95.56|:443... connected.\n",
            "HTTP request sent, awaiting response... 200 OK\n",
            "Length: 20389328375 (19G) [text/plain]\n",
            "Saving to: ‘non-rdf2vec-RESCAL.txt’\n",
            "\n",
            "non-rdf2vec-RESCAL. 100%[===================>]  18.99G  23.5MB/s    in 14m 17s \n",
            "\n",
            "2023-12-12 20:21:52 (22.7 MB/s) - ‘non-rdf2vec-RESCAL.txt’ saved [20389328375/20389328375]\n",
            "\n"
          ]
        }
      ]
    },
    {
      "cell_type": "code",
      "source": [
        "word_vectors = KeyedVectors.load_word2vec_format(\n",
        "    'non-rdf2vec-RESCAL.txt',\n",
        "    no_header=True,\n",
        ")"
      ],
      "metadata": {
        "id": "teN80VQRov16"
      },
      "execution_count": 22,
      "outputs": []
    },
    {
      "cell_type": "code",
      "source": [
        "word_vectors.save_word2vec_format('non-rdf2vec-RESCAL-with-header.txt', write_header=True)"
      ],
      "metadata": {
        "id": "8NL0fXqEovzU"
      },
      "execution_count": 23,
      "outputs": []
    },
    {
      "cell_type": "code",
      "source": [
        "!cp non-rdf2vec-RESCAL-with-header.txt \"/content/drive/MyDrive/Master/Mannheim/Master-Thesis/Embeddings\""
      ],
      "metadata": {
        "id": "zX70-YpMovvr"
      },
      "execution_count": 24,
      "outputs": []
    },
    {
      "cell_type": "code",
      "source": [
        "del word_vectors\n",
        "!rm non-rdf2vec-RESCAL.txt"
      ],
      "metadata": {
        "id": "_D_CWGTnovn4"
      },
      "execution_count": 25,
      "outputs": []
    },
    {
      "cell_type": "code",
      "source": [
        "!rm non-rdf2vec-RESCAL-with-header.txt"
      ],
      "metadata": {
        "id": "SNSWqqBwo45m"
      },
      "execution_count": null,
      "outputs": []
    },
    {
      "cell_type": "markdown",
      "source": [
        "## RotatE"
      ],
      "metadata": {
        "id": "jdRBi5y6sDiF"
      }
    },
    {
      "cell_type": "code",
      "source": [
        "!wget https://data.dws.informatik.uni-mannheim.de/kgvec2go/dbpedia/2021-09/non-rdf2vec/vectors_dbpedia_RotatE.txt -O non-rdf2vec-RotatE.txt"
      ],
      "metadata": {
        "colab": {
          "base_uri": "https://localhost:8080/"
        },
        "id": "LvCBbNzrr9fh",
        "outputId": "7dbde3f5-e835-4489-a43b-e19e87199e02"
      },
      "execution_count": 2,
      "outputs": [
        {
          "output_type": "stream",
          "name": "stdout",
          "text": [
            "--2023-12-13 10:22:28--  https://data.dws.informatik.uni-mannheim.de/kgvec2go/dbpedia/2021-09/non-rdf2vec/vectors_dbpedia_RotatE.txt\n",
            "Resolving data.dws.informatik.uni-mannheim.de (data.dws.informatik.uni-mannheim.de)... 134.155.95.56\n",
            "Connecting to data.dws.informatik.uni-mannheim.de (data.dws.informatik.uni-mannheim.de)|134.155.95.56|:443... connected.\n",
            "HTTP request sent, awaiting response... 200 OK\n",
            "Length: 20713001237 (19G) [text/plain]\n",
            "Saving to: ‘non-rdf2vec-RotatE.txt’\n",
            "\n",
            "non-rdf2vec-RotatE. 100%[===================>]  19.29G  27.9MB/s    in 11m 45s \n",
            "\n",
            "2023-12-13 10:34:14 (28.0 MB/s) - ‘non-rdf2vec-RotatE.txt’ saved [20713001237/20713001237]\n",
            "\n"
          ]
        }
      ]
    },
    {
      "cell_type": "code",
      "source": [
        "word_vectors = KeyedVectors.load_word2vec_format(\n",
        "    'non-rdf2vec-RotatE.txt',\n",
        "    no_header=True,\n",
        ")"
      ],
      "metadata": {
        "id": "2BSMutDar9Q7"
      },
      "execution_count": 3,
      "outputs": []
    },
    {
      "cell_type": "code",
      "source": [
        "word_vectors.save_word2vec_format('non-rdf2vec-RotatE-with-header.txt', write_header=True)"
      ],
      "metadata": {
        "id": "mUXP-bJNr9N0"
      },
      "execution_count": 4,
      "outputs": []
    },
    {
      "cell_type": "code",
      "source": [
        "!cp non-rdf2vec-RotatE-with-header.txt \"/content/drive/MyDrive/Master/Mannheim/Master-Thesis/Embeddings\""
      ],
      "metadata": {
        "id": "XCQsOqBmr9Ks"
      },
      "execution_count": 5,
      "outputs": []
    },
    {
      "cell_type": "code",
      "source": [
        "del word_vectors\n",
        "!rm non-rdf2vec-RotatE.txt"
      ],
      "metadata": {
        "id": "-8gLdqihr9Hj"
      },
      "execution_count": 6,
      "outputs": []
    },
    {
      "cell_type": "code",
      "source": [
        "!rm non-rdf2vec-RotatE-with-header.txt"
      ],
      "metadata": {
        "id": "rocd5HJAr8tS"
      },
      "execution_count": 7,
      "outputs": []
    },
    {
      "cell_type": "markdown",
      "source": [
        "## TransE L1"
      ],
      "metadata": {
        "id": "smGbk5CSs-YG"
      }
    },
    {
      "cell_type": "code",
      "source": [
        "!wget https://data.dws.informatik.uni-mannheim.de/kgvec2go/dbpedia/2021-09/non-rdf2vec/vectors_dbpedia_TransE-L1.txt -O non-rdf2vec-TransE-L1.txt"
      ],
      "metadata": {
        "colab": {
          "base_uri": "https://localhost:8080/"
        },
        "id": "SE2oT203tFUP",
        "outputId": "8a61fe76-172c-4364-94d5-be62e7ad4e93"
      },
      "execution_count": 8,
      "outputs": [
        {
          "output_type": "stream",
          "name": "stdout",
          "text": [
            "--2023-12-13 12:10:28--  https://data.dws.informatik.uni-mannheim.de/kgvec2go/dbpedia/2021-09/non-rdf2vec/vectors_dbpedia_TransE-L1.txt\n",
            "Resolving data.dws.informatik.uni-mannheim.de (data.dws.informatik.uni-mannheim.de)... 134.155.95.56\n",
            "Connecting to data.dws.informatik.uni-mannheim.de (data.dws.informatik.uni-mannheim.de)|134.155.95.56|:443... connected.\n",
            "HTTP request sent, awaiting response... 200 OK\n",
            "Length: 21108865745 (20G) [text/plain]\n",
            "Saving to: ‘non-rdf2vec-TransE-L1.txt’\n",
            "\n",
            "non-rdf2vec-TransE- 100%[===================>]  19.66G  29.0MB/s    in 12m 10s \n",
            "\n",
            "2023-12-13 12:22:39 (27.6 MB/s) - ‘non-rdf2vec-TransE-L1.txt’ saved [21108865745/21108865745]\n",
            "\n"
          ]
        }
      ]
    },
    {
      "cell_type": "code",
      "source": [
        "word_vectors = KeyedVectors.load_word2vec_format(\n",
        "    'non-rdf2vec-TransE-L1.txt',\n",
        "    no_header=True,\n",
        ")"
      ],
      "metadata": {
        "id": "2T9QdpjjtGP-"
      },
      "execution_count": 9,
      "outputs": []
    },
    {
      "cell_type": "code",
      "source": [
        "word_vectors.save_word2vec_format('non-rdf2vec-TransE-L1-with-header.txt', write_header=True)"
      ],
      "metadata": {
        "id": "HhnNPY5BtGNq"
      },
      "execution_count": 10,
      "outputs": []
    },
    {
      "cell_type": "code",
      "source": [
        "!cp non-rdf2vec-TransE-L1-with-header.txt \"/content/drive/MyDrive/Master/Mannheim/Master-Thesis/Embeddings\""
      ],
      "metadata": {
        "id": "cqowYLaUtGLT"
      },
      "execution_count": 11,
      "outputs": []
    },
    {
      "cell_type": "code",
      "source": [
        "del word_vectors\n",
        "!rm non-rdf2vec-TransE-L1.txt"
      ],
      "metadata": {
        "id": "2mVFxK2ItGIc"
      },
      "execution_count": 12,
      "outputs": []
    },
    {
      "cell_type": "code",
      "source": [
        "!rm non-rdf2vec-TransE-L1-with-header.txt"
      ],
      "metadata": {
        "id": "t2xxVVQjtGBs"
      },
      "execution_count": 13,
      "outputs": []
    },
    {
      "cell_type": "markdown",
      "source": [
        "## TransE L2"
      ],
      "metadata": {
        "id": "2K9V5ODJtaFB"
      }
    },
    {
      "cell_type": "code",
      "source": [
        "!wget https://data.dws.informatik.uni-mannheim.de/kgvec2go/dbpedia/2021-09/non-rdf2vec/vectors_dbpedia_TransE-L2.txt -O non-rdf2vec-TransE-L2.txt"
      ],
      "metadata": {
        "colab": {
          "base_uri": "https://localhost:8080/"
        },
        "id": "_n1W0l06tcbz",
        "outputId": "c96070ec-a48f-435e-a162-f24636032f82"
      },
      "execution_count": 14,
      "outputs": [
        {
          "output_type": "stream",
          "name": "stdout",
          "text": [
            "--2023-12-13 13:42:59--  https://data.dws.informatik.uni-mannheim.de/kgvec2go/dbpedia/2021-09/non-rdf2vec/vectors_dbpedia_TransE-L2.txt\n",
            "Resolving data.dws.informatik.uni-mannheim.de (data.dws.informatik.uni-mannheim.de)... 134.155.95.56\n",
            "Connecting to data.dws.informatik.uni-mannheim.de (data.dws.informatik.uni-mannheim.de)|134.155.95.56|:443... connected.\n",
            "HTTP request sent, awaiting response... 200 OK\n",
            "Length: 19594481800 (18G) [text/plain]\n",
            "Saving to: ‘non-rdf2vec-TransE-L2.txt’\n",
            "\n",
            "non-rdf2vec-TransE- 100%[===================>]  18.25G  29.4MB/s    in 10m 53s \n",
            "\n",
            "2023-12-13 13:53:53 (28.6 MB/s) - ‘non-rdf2vec-TransE-L2.txt’ saved [19594481800/19594481800]\n",
            "\n"
          ]
        }
      ]
    },
    {
      "cell_type": "code",
      "source": [
        "word_vectors = KeyedVectors.load_word2vec_format(\n",
        "    'non-rdf2vec-TransE-L2.txt',\n",
        "    no_header=True,\n",
        ")"
      ],
      "metadata": {
        "id": "ykBNPwOrtdAU"
      },
      "execution_count": 15,
      "outputs": []
    },
    {
      "cell_type": "code",
      "source": [
        "word_vectors.save_word2vec_format('non-rdf2vec-TransE-L2-with-header.txt', write_header=True)"
      ],
      "metadata": {
        "id": "xg7nODsTtc3Z"
      },
      "execution_count": 16,
      "outputs": []
    },
    {
      "cell_type": "code",
      "source": [
        "!cp non-rdf2vec-TransE-L2-with-header.txt \"/content/drive/MyDrive/Master/Mannheim/Master-Thesis/Embeddings\""
      ],
      "metadata": {
        "id": "eDOJvJxEtc0y"
      },
      "execution_count": 17,
      "outputs": []
    },
    {
      "cell_type": "code",
      "source": [
        "del word_vectors\n",
        "!rm non-rdf2vec-TransE-L2.txt"
      ],
      "metadata": {
        "id": "04KKiKKOtcyK"
      },
      "execution_count": 18,
      "outputs": []
    },
    {
      "cell_type": "code",
      "source": [
        "!rm non-rdf2vec-TransE-L2-with-header.txt"
      ],
      "metadata": {
        "id": "Hp9K8XYKtcvi"
      },
      "execution_count": 19,
      "outputs": []
    },
    {
      "cell_type": "markdown",
      "source": [
        "## TransR"
      ],
      "metadata": {
        "id": "sIKvMAOst1ox"
      }
    },
    {
      "cell_type": "code",
      "source": [
        "!wget https://data.dws.informatik.uni-mannheim.de/kgvec2go/dbpedia/2021-09/non-rdf2vec/vectors_dbpedia_TransR.txt -O non-rdf2vec-TransR.txt"
      ],
      "metadata": {
        "colab": {
          "base_uri": "https://localhost:8080/"
        },
        "id": "O-owvNG1t4TF",
        "outputId": "557131f8-f912-4da1-edb5-1f7a92deac4d"
      },
      "execution_count": 2,
      "outputs": [
        {
          "output_type": "stream",
          "name": "stdout",
          "text": [
            "--2023-12-13 17:14:36--  https://data.dws.informatik.uni-mannheim.de/kgvec2go/dbpedia/2021-09/non-rdf2vec/vectors_dbpedia_TransR.txt\n",
            "Resolving data.dws.informatik.uni-mannheim.de (data.dws.informatik.uni-mannheim.de)... 134.155.95.56\n",
            "Connecting to data.dws.informatik.uni-mannheim.de (data.dws.informatik.uni-mannheim.de)|134.155.95.56|:443... connected.\n",
            "HTTP request sent, awaiting response... 200 OK\n",
            "Length: 21492780304 (20G) [text/plain]\n",
            "Saving to: ‘non-rdf2vec-TransR.txt’\n",
            "\n",
            "non-rdf2vec-TransR. 100%[===================>]  20.02G  28.7MB/s    in 12m 6s  \n",
            "\n",
            "2023-12-13 17:26:42 (28.2 MB/s) - ‘non-rdf2vec-TransR.txt’ saved [21492780304/21492780304]\n",
            "\n"
          ]
        }
      ]
    },
    {
      "cell_type": "code",
      "source": [
        "word_vectors = KeyedVectors.load_word2vec_format(\n",
        "    'non-rdf2vec-TransR.txt',\n",
        "    no_header=True,\n",
        ")"
      ],
      "metadata": {
        "id": "mmo5mRiwt4J8"
      },
      "execution_count": 3,
      "outputs": []
    },
    {
      "cell_type": "code",
      "source": [
        "word_vectors.save_word2vec_format('non-rdf2vec-TransR-with-header.txt', write_header=True)"
      ],
      "metadata": {
        "id": "jtZAb6Mft4HD"
      },
      "execution_count": 4,
      "outputs": []
    },
    {
      "cell_type": "code",
      "source": [
        "!cp non-rdf2vec-TransR-with-header.txt \"/content/drive/MyDrive/Master/Mannheim/Master-Thesis/Embeddings\""
      ],
      "metadata": {
        "id": "183BVRwzt4EO"
      },
      "execution_count": 5,
      "outputs": []
    },
    {
      "cell_type": "code",
      "source": [
        "del word_vectors\n",
        "!rm non-rdf2vec-TransR.txt"
      ],
      "metadata": {
        "id": "uDcrjWxSt4BW"
      },
      "execution_count": 6,
      "outputs": []
    },
    {
      "cell_type": "code",
      "source": [
        "!rm non-rdf2vec-TransR-with-header.txt"
      ],
      "metadata": {
        "colab": {
          "base_uri": "https://localhost:8080/"
        },
        "id": "HBOm4_PMMr_F",
        "outputId": "ff3b5525-411d-420a-94fc-cf91b88eeab8"
      },
      "execution_count": 8,
      "outputs": [
        {
          "output_type": "stream",
          "name": "stdout",
          "text": [
            "rm: cannot remove 'non-rdf2vec-TransR-with-header.txt': No such file or directory\n"
          ]
        }
      ]
    }
  ]
}