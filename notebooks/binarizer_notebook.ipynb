{
 "cells": [
  {
   "cell_type": "code",
   "execution_count": 1,
   "metadata": {},
   "outputs": [],
   "source": [
    "embeddings_source_files = {\n",
    "    \"rdf2vec-cbow-200\": \"https://data.dws.informatik.uni-mannheim.de/kgvec2go/dbpedia/2021-09/classic-rdf2vec-cbow-200/vectors.txt\", # NO HEADER, 8156429\n",
    "    \"rdf2vec-cbow-oa-200\": \"https://data.dws.informatik.uni-mannheim.de/kgvec2go/dbpedia/2021-09/classic-rdf2vec-cbow-oa-200/cwindow200_classic.txt\", # 8145384\n",
    "    \"rdf2vec-sg-200\": \"https://data.dws.informatik.uni-mannheim.de/kgvec2go/dbpedia/2021-09/classic-rdf2vec-sg-200/vectors.txt\", # NO HEADER, 7954946\n",
    "    \"rdf2vec-sg-oa-200\": \"https://data.dws.informatik.uni-mannheim.de/kgvec2go/dbpedia/2021-09/classic-rdf2vec-sg-oa-200/sgpos200_classic.txt\", # 8145384\n",
    "    \"non-rdf2vec-ComplEx\": \"https://data.dws.informatik.uni-mannheim.de/kgvec2go/dbpedia/2021-09/non-rdf2vec/vectors_dbpedia_ComplEx.txt\", # 8499982\n",
    "    \"non-rdf2vec-DistMult\": \"https://data.dws.informatik.uni-mannheim.de/kgvec2go/dbpedia/2021-09/non-rdf2vec/vectors_dbpedia_DistMult.txt\", # 8499982\n",
    "    \"non-rdf2vec-RESCAL\": \"https://data.dws.informatik.uni-mannheim.de/kgvec2go/dbpedia/2021-09/non-rdf2vec/vectors_dbpedia_RESCAL.txt\", # 8499982\n",
    "    \"non-rdf2vec-RotatE\": \"https://data.dws.informatik.uni-mannheim.de/kgvec2go/dbpedia/2021-09/non-rdf2vec/vectors_dbpedia_RotatE.txt\", # 8499982\n",
    "    \"non-rdf2vec-TransE-L1\": \"https://data.dws.informatik.uni-mannheim.de/kgvec2go/dbpedia/2021-09/non-rdf2vec/vectors_dbpedia_TransE-L1.txt\", # 8499982\n",
    "    \"non-rdf2vec-TransE-L2\": \"https://data.dws.informatik.uni-mannheim.de/kgvec2go/dbpedia/2021-09/non-rdf2vec/vectors_dbpedia_TransE-L2.txt\", # 8499982\n",
    "    \"non-rdf2vec-TransR\": \"https://data.dws.informatik.uni-mannheim.de/kgvec2go/dbpedia/2021-09/non-rdf2vec/vectors_dbpedia_TransR.txt\", # 8499982\n",
    "}"
   ]
  },
  {
   "cell_type": "code",
   "execution_count": 1,
   "metadata": {},
   "outputs": [],
   "source": [
    "import pickle\n",
    "\n",
    "with open('dlcc_entities.pickle', 'rb') as file:\n",
    "    dlcc_entities = pickle.load(file)\n",
    "\n",
    "with open('geval_entities.pickle', 'rb') as file:\n",
    "    geval_entities = pickle.load(file)\n",
    "\n",
    "all_entities = dlcc_entities.union(geval_entities)"
   ]
  },
  {
   "cell_type": "code",
   "execution_count": 2,
   "metadata": {},
   "outputs": [],
   "source": [
    "def int_to_bitlist(int_str):\n",
    "    bitlist = [bit for bit in bin(int(int_str))[2:]]\n",
    "    missing_zeros = 64 - len(bitlist)\n",
    "    return ['0'] * missing_zeros + bitlist\n",
    "\n",
    "def get_full_binary_vector(line):\n",
    "    bin_vector = []\n",
    "    for int_str in line.split()[1:]:\n",
    "        bin_vector.extend(int_to_bitlist(int_str))\n",
    "    return line.split()[0] + ' ' + ' '.join(bin_vector)"
   ]
  },
  {
   "cell_type": "code",
   "execution_count": 3,
   "metadata": {},
   "outputs": [],
   "source": [
    "!./binarize -input rdf2vec-cbow-200-with-header.txt -n-bits 128"
   ]
  },
  {
   "cell_type": "code",
   "execution_count": 4,
   "metadata": {},
   "outputs": [
    {
     "name": "stdout",
     "output_type": "stream",
     "text": [
      "370869\n"
     ]
    }
   ],
   "source": [
    "with open(\"binary_vectors.vec\", \"r\", encoding=\"ISO-8859-1\") as file:\n",
    "    lines = file.readlines()\n",
    "\n",
    "with open(\"rdf2vec-cbow-128-autoencoded.txt\", \"w\") as file:\n",
    "    rows_count = 0\n",
    "    for line in lines[1:]:\n",
    "        if line.split()[0] in all_entities:\n",
    "            full_binary_vector = get_full_binary_vector(line)\n",
    "            file.write(f'{full_binary_vector} \\n')\n",
    "            rows_count += 1\n",
    "\n",
    "print(rows_count)\n",
    "\n",
    "with open(\"rdf2vec-cbow-128-autoencoded.vec\", \"w\") as file:\n",
    "    file.write(f\"{rows_count} 128 \\n\")\n",
    "    for line in lines[1:]:\n",
    "        if line.split()[0] in all_entities:\n",
    "            file.write(line)"
   ]
  },
  {
   "cell_type": "code",
   "execution_count": 5,
   "metadata": {},
   "outputs": [],
   "source": [
    "!rm binary_vectors.vec"
   ]
  },
  {
   "cell_type": "code",
   "execution_count": 6,
   "metadata": {},
   "outputs": [],
   "source": [
    "!./binarize -input rdf2vec-cbow-200-with-header.txt -n-bits 256"
   ]
  },
  {
   "cell_type": "code",
   "execution_count": 7,
   "metadata": {},
   "outputs": [
    {
     "name": "stdout",
     "output_type": "stream",
     "text": [
      "370869\n"
     ]
    }
   ],
   "source": [
    "with open(\"binary_vectors.vec\", \"r\", encoding=\"ISO-8859-1\") as file:\n",
    "    lines = file.readlines()\n",
    "\n",
    "with open(\"rdf2vec-cbow-256-autoencoded.txt\", \"w\") as file:\n",
    "    rows_count = 0\n",
    "    for line in lines[1:]:\n",
    "        if line.split()[0] in all_entities:\n",
    "            full_binary_vector = get_full_binary_vector(line)\n",
    "            file.write(f'{full_binary_vector} \\n')\n",
    "            rows_count += 1\n",
    "\n",
    "print(rows_count)\n",
    "\n",
    "with open(\"rdf2vec-cbow-256-autoencoded.vec\", \"w\") as file:\n",
    "    file.write(f\"{rows_count} 256 \\n\")\n",
    "    for line in lines[1:]:\n",
    "        if line.split()[0] in all_entities:\n",
    "            file.write(line)\n",
    "\n",
    "!rm binary_vectors.vec"
   ]
  },
  {
   "cell_type": "code",
   "execution_count": 8,
   "metadata": {},
   "outputs": [],
   "source": [
    "!./binarize -input rdf2vec-cbow-200-with-header.txt -n-bits 512"
   ]
  },
  {
   "cell_type": "code",
   "execution_count": 9,
   "metadata": {},
   "outputs": [
    {
     "name": "stdout",
     "output_type": "stream",
     "text": [
      "370869\n"
     ]
    }
   ],
   "source": [
    "with open(\"binary_vectors.vec\", \"r\", encoding=\"ISO-8859-1\") as file:\n",
    "    lines = file.readlines()\n",
    "\n",
    "with open(\"rdf2vec-cbow-512-autoencoded.txt\", \"w\") as file:\n",
    "    rows_count = 0\n",
    "    for line in lines[1:]:\n",
    "        if line.split()[0] in all_entities:\n",
    "            full_binary_vector = get_full_binary_vector(line)\n",
    "            file.write(f'{full_binary_vector} \\n')\n",
    "            rows_count += 1\n",
    "\n",
    "print(rows_count)\n",
    "\n",
    "with open(\"rdf2vec-cbow-512-autoencoded.vec\", \"w\") as file:\n",
    "    file.write(f\"{rows_count} 512 \\n\")\n",
    "    for line in lines[1:]:\n",
    "        if line.split()[0] in all_entities:\n",
    "            file.write(line)\n",
    "\n",
    "!rm binary_vectors.vec"
   ]
  },
  {
   "cell_type": "code",
   "execution_count": 10,
   "metadata": {},
   "outputs": [],
   "source": [
    "!rm rdf2vec-cbow-200-with-header.txt"
   ]
  },
  {
   "cell_type": "code",
   "execution_count": 11,
   "metadata": {},
   "outputs": [],
   "source": [
    "!./binarize -input rdf2vec-sg-200-with-header.txt -n-bits 128"
   ]
  },
  {
   "cell_type": "code",
   "execution_count": 12,
   "metadata": {},
   "outputs": [
    {
     "name": "stdout",
     "output_type": "stream",
     "text": [
      "1324076\n"
     ]
    }
   ],
   "source": [
    "with open(\"binary_vectors.vec\", \"r\", encoding=\"ISO-8859-1\") as file:\n",
    "    lines = file.readlines()\n",
    "\n",
    "with open(\"rdf2vec-sg-128-autoencoded.txt\", \"w\") as file:\n",
    "    rows_count = 0\n",
    "    for line in lines[1:]:\n",
    "        if line.split()[0] in all_entities:\n",
    "            full_binary_vector = get_full_binary_vector(line)\n",
    "            file.write(f'{full_binary_vector} \\n')\n",
    "            rows_count += 1\n",
    "\n",
    "print(rows_count)\n",
    "\n",
    "with open(\"rdf2vec-sg-128-autoencoded.vec\", \"w\") as file:\n",
    "    file.write(f\"{rows_count} 128 \\n\")\n",
    "    for line in lines[1:]:\n",
    "        if line.split()[0] in all_entities:\n",
    "            file.write(line)"
   ]
  },
  {
   "cell_type": "code",
   "execution_count": 13,
   "metadata": {},
   "outputs": [],
   "source": [
    "!rm binary_vectors.vec"
   ]
  },
  {
   "cell_type": "code",
   "execution_count": 14,
   "metadata": {},
   "outputs": [],
   "source": [
    "!./binarize -input rdf2vec-sg-200-with-header.txt -n-bits 256"
   ]
  },
  {
   "cell_type": "code",
   "execution_count": 15,
   "metadata": {},
   "outputs": [
    {
     "name": "stdout",
     "output_type": "stream",
     "text": [
      "1324076\n"
     ]
    }
   ],
   "source": [
    "with open(\"binary_vectors.vec\", \"r\", encoding=\"ISO-8859-1\") as file:\n",
    "    lines = file.readlines()\n",
    "\n",
    "with open(\"rdf2vec-sg-256-autoencoded.txt\", \"w\") as file:\n",
    "    rows_count = 0\n",
    "    for line in lines[1:]:\n",
    "        if line.split()[0] in all_entities:\n",
    "            full_binary_vector = get_full_binary_vector(line)\n",
    "            file.write(f'{full_binary_vector} \\n')\n",
    "            rows_count += 1\n",
    "\n",
    "print(rows_count)\n",
    "\n",
    "with open(\"rdf2vec-sg-256-autoencoded.vec\", \"w\") as file:\n",
    "    file.write(f\"{rows_count} 256 \\n\")\n",
    "    for line in lines[1:]:\n",
    "        if line.split()[0] in all_entities:\n",
    "            file.write(line)\n",
    "\n",
    "!rm binary_vectors.vec"
   ]
  },
  {
   "cell_type": "code",
   "execution_count": 16,
   "metadata": {},
   "outputs": [],
   "source": [
    "!./binarize -input rdf2vec-sg-200-with-header.txt -n-bits 512"
   ]
  },
  {
   "cell_type": "code",
   "execution_count": 17,
   "metadata": {},
   "outputs": [
    {
     "name": "stdout",
     "output_type": "stream",
     "text": [
      "1324076\n"
     ]
    }
   ],
   "source": [
    "with open(\"binary_vectors.vec\", \"r\", encoding=\"ISO-8859-1\") as file:\n",
    "    lines = file.readlines()\n",
    "\n",
    "with open(\"rdf2vec-sg-512-autoencoded.txt\", \"w\") as file:\n",
    "    rows_count = 0\n",
    "    for line in lines[1:]:\n",
    "        if line.split()[0] in all_entities:\n",
    "            full_binary_vector = get_full_binary_vector(line)\n",
    "            file.write(f'{full_binary_vector} \\n')\n",
    "            rows_count += 1\n",
    "\n",
    "print(rows_count)\n",
    "\n",
    "with open(\"rdf2vec-sg-512-autoencoded.vec\", \"w\") as file:\n",
    "    file.write(f\"{rows_count} 512 \\n\")\n",
    "    for line in lines[1:]:\n",
    "        if line.split()[0] in all_entities:\n",
    "            file.write(line)\n",
    "\n",
    "!rm binary_vectors.vec"
   ]
  },
  {
   "cell_type": "code",
   "execution_count": 18,
   "metadata": {},
   "outputs": [],
   "source": [
    "!rm rdf2vec-sg-200-with-header.txt"
   ]
  },
  {
   "cell_type": "code",
   "execution_count": 19,
   "metadata": {},
   "outputs": [
    {
     "name": "stdout",
     "output_type": "stream",
     "text": [
      "  % Total    % Received % Xferd  Average Speed   Time    Time     Time  Current\n",
      "                                 Dload  Upload   Total   Spent    Left  Speed\n",
      "100 14.8G  100 14.8G    0     0  9657k      0  0:26:47  0:26:47 --:--:-- 12.2M52 11.2M  0:22:32 10.3M 0:01:02  0:23:00 9141k  0:23:07 7180k0:23:38 8632k3k      0  0:27:10  0:03:27  0:23:43 7734k59 6460k4 14.8G   14 2216M    0     0  9110k      0  0:28:24  0:04:09  0:24:15 7859k9k4:20  0:24:17 7697k8550k      0  0:30:15  0:05:24  0:24:51 6201k4:54 6446k     0  0:31:13  0:06:20  0:24:53 7315k  0:31:33  0:06:53  0:24:40 6893k 0:07:01  0:24:38 6935k44  0:07:05  0:24:39 5961k0:31:52  0:07:17  0:24:35 6957k35 6336k   0  0:31:49  0:07:39  0:24:10 10.4M58 8636k      0  0:31:18  0:08:10  0:23:08  9.9M1  0:08:16  0:22:55 10.5M0  8329k      0  0:31:03  0:08:53  0:22:10 7465k   0  0:30:44  0:09:41  0:21:03 9241k0:10:37  0:19:51 8896k:30:24  0:10:54  0:19:30 8553k423k 0:19:14 9262kM    0     0  8543k      0  0:30:17  0:11:39  0:18:38 9808k    0  0:29:27  0:13:26  0:16:01 8981k54 8821k6  9.8M    0  0:29:19  0:14:03  0:15:16 10.0M:39 10.1M14:53  0:14:12 10.5M06 9369k3:01 8872k:30 10.5M     0  0:28:36  0:16:37  0:11:59 9641k90k      0  0:28:27  0:17:00  0:11:27 10.7M 0:28:25  0:17:05  0:11:20 11.7M0:17:41  0:10:31 10.3M:18:27  0:09:37 9673k216k      0  0:28:04  0:18:29  0:09:35 9916k:28  9.8M18:46  0:09:15 10.1M8:25 10.8M 0:20:03  0:07:43 7553k9297k      0  0:27:49  0:20:24  0:07:25 7160k20:38  0:07:15 7344k2:07  0:05:39 11.1M 0  0:27:41  0:22:38  0:05:03 10.4M34  0:03:56 11.0M6  0:03:54 10.4MM 0  9458k      0  0:27:21  0:24:24  0:02:57 10.0M 0:25:27  0:01:44 11.7M 0:01:30 11.7M 11.8M43 12.2M\n"
     ]
    }
   ],
   "source": [
    "!curl -o rdf2vec-sg-oa-200.txt  'https://data.dws.informatik.uni-mannheim.de/kgvec2go/dbpedia/2021-09/classic-rdf2vec-sg-oa-200/sgpos200_classic.txt'"
   ]
  },
  {
   "cell_type": "code",
   "execution_count": 20,
   "metadata": {},
   "outputs": [],
   "source": [
    "!./binarize -input rdf2vec-sg-oa-200.txt -n-bits 128"
   ]
  },
  {
   "cell_type": "code",
   "execution_count": 21,
   "metadata": {},
   "outputs": [
    {
     "name": "stdout",
     "output_type": "stream",
     "text": [
      "370369\n"
     ]
    }
   ],
   "source": [
    "with open(\"binary_vectors.vec\", \"r\", encoding=\"ISO-8859-1\") as file:\n",
    "    lines = file.readlines()\n",
    "\n",
    "with open(\"rdf2vec-sg-oa-128-autoencoded.txt\", \"w\") as file:\n",
    "    rows_count = 0\n",
    "    for line in lines[1:]:\n",
    "        if line.split()[0] in all_entities:\n",
    "            full_binary_vector = get_full_binary_vector(line)\n",
    "            file.write(f'{full_binary_vector} \\n')\n",
    "            rows_count += 1\n",
    "\n",
    "print(rows_count)\n",
    "\n",
    "with open(\"rdf2vec-sg-oa-128-autoencoded.vec\", \"w\") as file:\n",
    "    file.write(f\"{rows_count} 128 \\n\")\n",
    "    for line in lines[1:]:\n",
    "        if line.split()[0] in all_entities:\n",
    "            file.write(line)"
   ]
  },
  {
   "cell_type": "code",
   "execution_count": 22,
   "metadata": {},
   "outputs": [],
   "source": [
    "!./binarize -input rdf2vec-sg-oa-200.txt -n-bits 256"
   ]
  },
  {
   "cell_type": "code",
   "execution_count": 23,
   "metadata": {},
   "outputs": [
    {
     "name": "stdout",
     "output_type": "stream",
     "text": [
      "370369\n"
     ]
    }
   ],
   "source": [
    "with open(\"binary_vectors.vec\", \"r\", encoding=\"ISO-8859-1\") as file:\n",
    "    lines = file.readlines()\n",
    "\n",
    "with open(\"rdf2vec-sg-oa-256-autoencoded.txt\", \"w\") as file:\n",
    "    rows_count = 0\n",
    "    for line in lines[1:]:\n",
    "        if line.split()[0] in all_entities:\n",
    "            full_binary_vector = get_full_binary_vector(line)\n",
    "            file.write(f'{full_binary_vector} \\n')\n",
    "            rows_count += 1\n",
    "\n",
    "print(rows_count)\n",
    "\n",
    "with open(\"rdf2vec-sg-oa-256-autoencoded.vec\", \"w\") as file:\n",
    "    file.write(f\"{rows_count} 256 \\n\")\n",
    "    for line in lines[1:]:\n",
    "        if line.split()[0] in all_entities:\n",
    "            file.write(line)"
   ]
  },
  {
   "cell_type": "code",
   "execution_count": 24,
   "metadata": {},
   "outputs": [],
   "source": [
    "!./binarize -input rdf2vec-sg-oa-200.txt -n-bits 512"
   ]
  },
  {
   "cell_type": "code",
   "execution_count": 25,
   "metadata": {},
   "outputs": [
    {
     "name": "stdout",
     "output_type": "stream",
     "text": [
      "370369\n"
     ]
    }
   ],
   "source": [
    "with open(\"binary_vectors.vec\", \"r\", encoding=\"ISO-8859-1\") as file:\n",
    "    lines = file.readlines()\n",
    "\n",
    "with open(\"rdf2vec-sg-oa-512-autoencoded.txt\", \"w\") as file:\n",
    "    rows_count = 0\n",
    "    for line in lines[1:]:\n",
    "        if line.split()[0] in all_entities:\n",
    "            full_binary_vector = get_full_binary_vector(line)\n",
    "            file.write(f'{full_binary_vector} \\n')\n",
    "            rows_count += 1\n",
    "\n",
    "print(rows_count)\n",
    "\n",
    "with open(\"rdf2vec-sg-oa-512-autoencoded.vec\", \"w\") as file:\n",
    "    file.write(f\"{rows_count} 512 \\n\")\n",
    "    for line in lines[1:]:\n",
    "        if line.split()[0] in all_entities:\n",
    "            file.write(line)"
   ]
  },
  {
   "cell_type": "code",
   "execution_count": 27,
   "metadata": {},
   "outputs": [],
   "source": [
    "!rm rdf2vec-sg-oa-200.txt"
   ]
  },
  {
   "cell_type": "code",
   "execution_count": 28,
   "metadata": {},
   "outputs": [],
   "source": [
    "def binarize_embedding(embedding_name, n_bits):\n",
    "    n_bits = str(n_bits)\n",
    "    \n",
    "    print(f'Binarizing {embedding_name} into {n_bits}-bit vectors...')\n",
    "    !./binarize -input {embedding_name}-with-header.txt -n-bits {n_bits}\n",
    "    print(f'{embedding_name} binarized into {n_bits}-bit vectors in file `binary_vectors.vec`')\n",
    "    \n",
    "    print('Filtering entities...')\n",
    "    with open(\"binary_vectors.vec\", \"r\", encoding=\"ISO-8859-1\") as file:\n",
    "        lines = file.readlines()\n",
    "\n",
    "    with open(f\"{embedding_name}-{n_bits}-autoencoded.txt\", \"w\") as file:\n",
    "        rows_count = 0\n",
    "        for line in lines[1:]:\n",
    "            if line.split()[0] in all_entities:\n",
    "                full_binary_vector = get_full_binary_vector(line)\n",
    "                file.write(f'{full_binary_vector} \\n')\n",
    "                rows_count += 1\n",
    "    \n",
    "    print(f'Filtered {rows_count} entities')\n",
    "    print(f'Successfully written file {embedding_name}-{n_bits}-autoencoded.txt')\n",
    "    \n",
    "    with open(f\"{embedding_name}-{n_bits}-autoencoded.vec\", \"w\") as file:\n",
    "        file.write(f\"{rows_count} {n_bits} \\n\")\n",
    "        for line in lines[1:]:\n",
    "            if line.split()[0] in all_entities:\n",
    "                file.write(line)\n",
    "    \n",
    "    print(f'Successfully written file {embedding_name}-{n_bits}-autoencoded.vec')\n",
    "    print('Deleting `binary_vectors.vec`')\n",
    "    !rm binary_vectors.vec"
   ]
  },
  {
   "cell_type": "code",
   "execution_count": 29,
   "metadata": {},
   "outputs": [
    {
     "name": "stdout",
     "output_type": "stream",
     "text": [
      "Binarizing non-rdf2vec-ComplEx into 128-bit vectors...\n",
      "non-rdf2vec-ComplEx binarized into 128-bit vectors in file `binary_vectors.vec`\n",
      "Filtering entities...\n",
      "Filtered 370971 entities\n",
      "Successfully written file non-rdf2vec-ComplEx-128-autoencoded.txt\n",
      "Successfully written file non-rdf2vec-ComplEx-128-autoencoded.vec\n",
      "Deleting `binary_vectors.vec`\n"
     ]
    }
   ],
   "source": [
    "binarize_embedding(\n",
    "    embedding_name='non-rdf2vec-ComplEx', \n",
    "    n_bits=128,\n",
    ")"
   ]
  },
  {
   "cell_type": "code",
   "execution_count": 30,
   "metadata": {},
   "outputs": [
    {
     "name": "stdout",
     "output_type": "stream",
     "text": [
      "Binarizing non-rdf2vec-ComplEx into 256-bit vectors...\n",
      "non-rdf2vec-ComplEx binarized into 256-bit vectors in file `binary_vectors.vec`\n",
      "Filtering entities...\n",
      "Filtered 370971 entities\n",
      "Successfully written file non-rdf2vec-ComplEx-256-autoencoded.txt\n",
      "Successfully written file non-rdf2vec-ComplEx-256-autoencoded.vec\n",
      "Deleting `binary_vectors.vec`\n"
     ]
    }
   ],
   "source": [
    "binarize_embedding(\n",
    "    embedding_name='non-rdf2vec-ComplEx', \n",
    "    n_bits=256,\n",
    ")"
   ]
  },
  {
   "cell_type": "code",
   "execution_count": 31,
   "metadata": {},
   "outputs": [
    {
     "name": "stdout",
     "output_type": "stream",
     "text": [
      "Binarizing non-rdf2vec-ComplEx into 512-bit vectors...\n",
      "non-rdf2vec-ComplEx binarized into 512-bit vectors in file `binary_vectors.vec`\n",
      "Filtering entities...\n",
      "Filtered 370971 entities\n",
      "Successfully written file non-rdf2vec-ComplEx-512-autoencoded.txt\n",
      "Successfully written file non-rdf2vec-ComplEx-512-autoencoded.vec\n",
      "Deleting `binary_vectors.vec`\n"
     ]
    }
   ],
   "source": [
    "binarize_embedding(\n",
    "    embedding_name='non-rdf2vec-ComplEx', \n",
    "    n_bits=512,\n",
    ")"
   ]
  },
  {
   "cell_type": "code",
   "execution_count": 32,
   "metadata": {},
   "outputs": [],
   "source": [
    "!rm non-rdf2vec-ComplEx-with-header.txt"
   ]
  },
  {
   "cell_type": "code",
   "execution_count": 33,
   "metadata": {},
   "outputs": [
    {
     "name": "stdout",
     "output_type": "stream",
     "text": [
      "Binarizing non-rdf2vec-DistMult into 128-bit vectors...\n",
      "non-rdf2vec-DistMult binarized into 128-bit vectors in file `binary_vectors.vec`\n",
      "Filtering entities...\n",
      "Filtered 370971 entities\n",
      "Successfully written file non-rdf2vec-DistMult-128-autoencoded.txt\n",
      "Successfully written file non-rdf2vec-DistMult-128-autoencoded.vec\n",
      "Deleting `binary_vectors.vec`\n"
     ]
    }
   ],
   "source": [
    "binarize_embedding(\n",
    "    embedding_name='non-rdf2vec-DistMult', \n",
    "    n_bits=128,\n",
    ")"
   ]
  },
  {
   "cell_type": "code",
   "execution_count": 34,
   "metadata": {},
   "outputs": [
    {
     "name": "stdout",
     "output_type": "stream",
     "text": [
      "Binarizing non-rdf2vec-DistMult into 256-bit vectors...\n",
      "non-rdf2vec-DistMult binarized into 256-bit vectors in file `binary_vectors.vec`\n",
      "Filtering entities...\n",
      "Filtered 370971 entities\n",
      "Successfully written file non-rdf2vec-DistMult-256-autoencoded.txt\n",
      "Successfully written file non-rdf2vec-DistMult-256-autoencoded.vec\n",
      "Deleting `binary_vectors.vec`\n"
     ]
    }
   ],
   "source": [
    "binarize_embedding(\n",
    "    embedding_name='non-rdf2vec-DistMult', \n",
    "    n_bits=256,\n",
    ")"
   ]
  },
  {
   "cell_type": "code",
   "execution_count": 35,
   "metadata": {},
   "outputs": [
    {
     "name": "stdout",
     "output_type": "stream",
     "text": [
      "Binarizing non-rdf2vec-DistMult into 512-bit vectors...\n",
      "non-rdf2vec-DistMult binarized into 512-bit vectors in file `binary_vectors.vec`\n",
      "Filtering entities...\n",
      "Filtered 370971 entities\n",
      "Successfully written file non-rdf2vec-DistMult-512-autoencoded.txt\n",
      "Successfully written file non-rdf2vec-DistMult-512-autoencoded.vec\n",
      "Deleting `binary_vectors.vec`\n"
     ]
    }
   ],
   "source": [
    "binarize_embedding(\n",
    "    embedding_name='non-rdf2vec-DistMult', \n",
    "    n_bits=512,\n",
    ")"
   ]
  },
  {
   "cell_type": "code",
   "execution_count": 36,
   "metadata": {},
   "outputs": [],
   "source": [
    "!rm non-rdf2vec-DistMult-with-header.txt"
   ]
  },
  {
   "cell_type": "code",
   "execution_count": 37,
   "metadata": {},
   "outputs": [
    {
     "name": "stdout",
     "output_type": "stream",
     "text": [
      "Binarizing non-rdf2vec-RESCAL into 128-bit vectors...\n",
      "non-rdf2vec-RESCAL binarized into 128-bit vectors in file `binary_vectors.vec`\n",
      "Filtering entities...\n",
      "Filtered 370971 entities\n",
      "Successfully written file non-rdf2vec-RESCAL-128-autoencoded.txt\n",
      "Successfully written file non-rdf2vec-RESCAL-128-autoencoded.vec\n",
      "Deleting `binary_vectors.vec`\n"
     ]
    }
   ],
   "source": [
    "binarize_embedding(\n",
    "    embedding_name='non-rdf2vec-RESCAL', \n",
    "    n_bits=128,\n",
    ")"
   ]
  },
  {
   "cell_type": "code",
   "execution_count": 38,
   "metadata": {},
   "outputs": [
    {
     "name": "stdout",
     "output_type": "stream",
     "text": [
      "Binarizing non-rdf2vec-RESCAL into 256-bit vectors...\n",
      "non-rdf2vec-RESCAL binarized into 256-bit vectors in file `binary_vectors.vec`\n",
      "Filtering entities...\n",
      "Filtered 370971 entities\n",
      "Successfully written file non-rdf2vec-RESCAL-256-autoencoded.txt\n",
      "Successfully written file non-rdf2vec-RESCAL-256-autoencoded.vec\n",
      "Deleting `binary_vectors.vec`\n"
     ]
    }
   ],
   "source": [
    "binarize_embedding(\n",
    "    embedding_name='non-rdf2vec-RESCAL', \n",
    "    n_bits=256,\n",
    ")"
   ]
  },
  {
   "cell_type": "code",
   "execution_count": 39,
   "metadata": {},
   "outputs": [
    {
     "name": "stdout",
     "output_type": "stream",
     "text": [
      "Binarizing non-rdf2vec-RESCAL into 512-bit vectors...\n",
      "non-rdf2vec-RESCAL binarized into 512-bit vectors in file `binary_vectors.vec`\n",
      "Filtering entities...\n",
      "Filtered 370971 entities\n",
      "Successfully written file non-rdf2vec-RESCAL-512-autoencoded.txt\n",
      "Successfully written file non-rdf2vec-RESCAL-512-autoencoded.vec\n",
      "Deleting `binary_vectors.vec`\n"
     ]
    }
   ],
   "source": [
    "binarize_embedding(\n",
    "    embedding_name='non-rdf2vec-RESCAL', \n",
    "    n_bits=512,\n",
    ")"
   ]
  },
  {
   "cell_type": "code",
   "execution_count": 40,
   "metadata": {},
   "outputs": [],
   "source": [
    "!rm non-rdf2vec-RESCAL-with-header.txt"
   ]
  },
  {
   "cell_type": "code",
   "execution_count": 41,
   "metadata": {},
   "outputs": [
    {
     "name": "stdout",
     "output_type": "stream",
     "text": [
      "Binarizing non-rdf2vec-RotatE into 128-bit vectors...\n",
      "non-rdf2vec-RotatE binarized into 128-bit vectors in file `binary_vectors.vec`\n",
      "Filtering entities...\n",
      "Filtered 370971 entities\n",
      "Successfully written file non-rdf2vec-RotatE-128-autoencoded.txt\n",
      "Successfully written file non-rdf2vec-RotatE-128-autoencoded.vec\n",
      "Deleting `binary_vectors.vec`\n"
     ]
    }
   ],
   "source": [
    "binarize_embedding(\n",
    "    embedding_name='non-rdf2vec-RotatE', \n",
    "    n_bits=128,\n",
    ")"
   ]
  },
  {
   "cell_type": "code",
   "execution_count": 42,
   "metadata": {},
   "outputs": [
    {
     "name": "stdout",
     "output_type": "stream",
     "text": [
      "Binarizing non-rdf2vec-RotatE into 256-bit vectors...\n",
      "non-rdf2vec-RotatE binarized into 256-bit vectors in file `binary_vectors.vec`\n",
      "Filtering entities...\n",
      "Filtered 370971 entities\n",
      "Successfully written file non-rdf2vec-RotatE-256-autoencoded.txt\n",
      "Successfully written file non-rdf2vec-RotatE-256-autoencoded.vec\n",
      "Deleting `binary_vectors.vec`\n"
     ]
    }
   ],
   "source": [
    "binarize_embedding(\n",
    "    embedding_name='non-rdf2vec-RotatE', \n",
    "    n_bits=256,\n",
    ")"
   ]
  },
  {
   "cell_type": "code",
   "execution_count": 43,
   "metadata": {},
   "outputs": [
    {
     "name": "stdout",
     "output_type": "stream",
     "text": [
      "Binarizing non-rdf2vec-RotatE into 512-bit vectors...\n",
      "non-rdf2vec-RotatE binarized into 512-bit vectors in file `binary_vectors.vec`\n",
      "Filtering entities...\n",
      "Filtered 370971 entities\n",
      "Successfully written file non-rdf2vec-RotatE-512-autoencoded.txt\n",
      "Successfully written file non-rdf2vec-RotatE-512-autoencoded.vec\n",
      "Deleting `binary_vectors.vec`\n"
     ]
    }
   ],
   "source": [
    "binarize_embedding(\n",
    "    embedding_name='non-rdf2vec-RotatE', \n",
    "    n_bits=512,\n",
    ")"
   ]
  },
  {
   "cell_type": "code",
   "execution_count": 44,
   "metadata": {},
   "outputs": [],
   "source": [
    "!rm non-rdf2vec-RotatE-with-header.txt"
   ]
  },
  {
   "cell_type": "code",
   "execution_count": 45,
   "metadata": {},
   "outputs": [
    {
     "name": "stdout",
     "output_type": "stream",
     "text": [
      "Binarizing non-rdf2vec-TransE-L1 into 128-bit vectors...\n",
      "non-rdf2vec-TransE-L1 binarized into 128-bit vectors in file `binary_vectors.vec`\n",
      "Filtering entities...\n",
      "Filtered 370971 entities\n",
      "Successfully written file non-rdf2vec-TransE-L1-128-autoencoded.txt\n",
      "Successfully written file non-rdf2vec-TransE-L1-128-autoencoded.vec\n",
      "Deleting `binary_vectors.vec`\n"
     ]
    }
   ],
   "source": [
    "binarize_embedding(\n",
    "    embedding_name='non-rdf2vec-TransE-L1', \n",
    "    n_bits=128,\n",
    ")"
   ]
  },
  {
   "cell_type": "code",
   "execution_count": 46,
   "metadata": {},
   "outputs": [
    {
     "name": "stdout",
     "output_type": "stream",
     "text": [
      "Binarizing non-rdf2vec-TransE-L1 into 256-bit vectors...\n",
      "non-rdf2vec-TransE-L1 binarized into 256-bit vectors in file `binary_vectors.vec`\n",
      "Filtering entities...\n",
      "Filtered 370971 entities\n",
      "Successfully written file non-rdf2vec-TransE-L1-256-autoencoded.txt\n",
      "Successfully written file non-rdf2vec-TransE-L1-256-autoencoded.vec\n",
      "Deleting `binary_vectors.vec`\n"
     ]
    }
   ],
   "source": [
    "binarize_embedding(\n",
    "    embedding_name='non-rdf2vec-TransE-L1', \n",
    "    n_bits=256,\n",
    ")"
   ]
  },
  {
   "cell_type": "code",
   "execution_count": 47,
   "metadata": {},
   "outputs": [
    {
     "name": "stdout",
     "output_type": "stream",
     "text": [
      "Binarizing non-rdf2vec-TransE-L1 into 512-bit vectors...\n",
      "non-rdf2vec-TransE-L1 binarized into 512-bit vectors in file `binary_vectors.vec`\n",
      "Filtering entities...\n",
      "Filtered 370971 entities\n",
      "Successfully written file non-rdf2vec-TransE-L1-512-autoencoded.txt\n",
      "Successfully written file non-rdf2vec-TransE-L1-512-autoencoded.vec\n",
      "Deleting `binary_vectors.vec`\n"
     ]
    }
   ],
   "source": [
    "binarize_embedding(\n",
    "    embedding_name='non-rdf2vec-TransE-L1', \n",
    "    n_bits=512,\n",
    ")"
   ]
  },
  {
   "cell_type": "code",
   "execution_count": 48,
   "metadata": {},
   "outputs": [],
   "source": [
    "!rm non-rdf2vec-TransE-L1-with-header.txt"
   ]
  },
  {
   "cell_type": "code",
   "execution_count": 49,
   "metadata": {},
   "outputs": [
    {
     "name": "stdout",
     "output_type": "stream",
     "text": [
      "Binarizing non-rdf2vec-TransE-L2 into 128-bit vectors...\n",
      "non-rdf2vec-TransE-L2 binarized into 128-bit vectors in file `binary_vectors.vec`\n",
      "Filtering entities...\n",
      "Filtered 370971 entities\n",
      "Successfully written file non-rdf2vec-TransE-L2-128-autoencoded.txt\n",
      "Successfully written file non-rdf2vec-TransE-L2-128-autoencoded.vec\n",
      "Deleting `binary_vectors.vec`\n"
     ]
    }
   ],
   "source": [
    "binarize_embedding(\n",
    "    embedding_name='non-rdf2vec-TransE-L2', \n",
    "    n_bits=128,\n",
    ")"
   ]
  },
  {
   "cell_type": "code",
   "execution_count": 50,
   "metadata": {},
   "outputs": [
    {
     "name": "stdout",
     "output_type": "stream",
     "text": [
      "Binarizing non-rdf2vec-TransE-L2 into 256-bit vectors...\n",
      "non-rdf2vec-TransE-L2 binarized into 256-bit vectors in file `binary_vectors.vec`\n",
      "Filtering entities...\n",
      "Filtered 370971 entities\n",
      "Successfully written file non-rdf2vec-TransE-L2-256-autoencoded.txt\n",
      "Successfully written file non-rdf2vec-TransE-L2-256-autoencoded.vec\n",
      "Deleting `binary_vectors.vec`\n"
     ]
    }
   ],
   "source": [
    "binarize_embedding(\n",
    "    embedding_name='non-rdf2vec-TransE-L2', \n",
    "    n_bits=256,\n",
    ")"
   ]
  },
  {
   "cell_type": "code",
   "execution_count": 51,
   "metadata": {},
   "outputs": [
    {
     "name": "stdout",
     "output_type": "stream",
     "text": [
      "Binarizing non-rdf2vec-TransE-L2 into 512-bit vectors...\n",
      "non-rdf2vec-TransE-L2 binarized into 512-bit vectors in file `binary_vectors.vec`\n",
      "Filtering entities...\n",
      "Filtered 370971 entities\n",
      "Successfully written file non-rdf2vec-TransE-L2-512-autoencoded.txt\n",
      "Successfully written file non-rdf2vec-TransE-L2-512-autoencoded.vec\n",
      "Deleting `binary_vectors.vec`\n"
     ]
    }
   ],
   "source": [
    "binarize_embedding(\n",
    "    embedding_name='non-rdf2vec-TransE-L2', \n",
    "    n_bits=512,\n",
    ")"
   ]
  },
  {
   "cell_type": "code",
   "execution_count": 52,
   "metadata": {},
   "outputs": [],
   "source": [
    "!rm non-rdf2vec-TransE-L2-with-header.txt"
   ]
  },
  {
   "cell_type": "code",
   "execution_count": 53,
   "metadata": {},
   "outputs": [
    {
     "name": "stdout",
     "output_type": "stream",
     "text": [
      "Binarizing non-rdf2vec-TransR into 128-bit vectors...\n",
      "non-rdf2vec-TransR binarized into 128-bit vectors in file `binary_vectors.vec`\n",
      "Filtering entities...\n",
      "Filtered 370971 entities\n",
      "Successfully written file non-rdf2vec-TransR-128-autoencoded.txt\n",
      "Successfully written file non-rdf2vec-TransR-128-autoencoded.vec\n",
      "Deleting `binary_vectors.vec`\n"
     ]
    }
   ],
   "source": [
    "binarize_embedding(\n",
    "    embedding_name='non-rdf2vec-TransR', \n",
    "    n_bits=128,\n",
    ")"
   ]
  },
  {
   "cell_type": "code",
   "execution_count": 54,
   "metadata": {},
   "outputs": [
    {
     "name": "stdout",
     "output_type": "stream",
     "text": [
      "Binarizing non-rdf2vec-TransR into 256-bit vectors...\n",
      "non-rdf2vec-TransR binarized into 256-bit vectors in file `binary_vectors.vec`\n",
      "Filtering entities...\n",
      "Filtered 370971 entities\n",
      "Successfully written file non-rdf2vec-TransR-256-autoencoded.txt\n",
      "Successfully written file non-rdf2vec-TransR-256-autoencoded.vec\n",
      "Deleting `binary_vectors.vec`\n"
     ]
    }
   ],
   "source": [
    "binarize_embedding(\n",
    "    embedding_name='non-rdf2vec-TransR', \n",
    "    n_bits=256,\n",
    ")"
   ]
  },
  {
   "cell_type": "code",
   "execution_count": 55,
   "metadata": {},
   "outputs": [
    {
     "name": "stdout",
     "output_type": "stream",
     "text": [
      "Binarizing non-rdf2vec-TransR into 512-bit vectors...\n",
      "non-rdf2vec-TransR binarized into 512-bit vectors in file `binary_vectors.vec`\n",
      "Filtering entities...\n",
      "Filtered 370971 entities\n",
      "Successfully written file non-rdf2vec-TransR-512-autoencoded.txt\n",
      "Successfully written file non-rdf2vec-TransR-512-autoencoded.vec\n",
      "Deleting `binary_vectors.vec`\n"
     ]
    }
   ],
   "source": [
    "binarize_embedding(\n",
    "    embedding_name='non-rdf2vec-TransR', \n",
    "    n_bits=512,\n",
    ")"
   ]
  },
  {
   "cell_type": "code",
   "execution_count": 56,
   "metadata": {},
   "outputs": [],
   "source": [
    "!rm non-rdf2vec-TransR-with-header.txt"
   ]
  },
  {
   "cell_type": "code",
   "execution_count": null,
   "metadata": {},
   "outputs": [],
   "source": []
  }
 ],
 "metadata": {
  "kernelspec": {
   "display_name": "Python 3",
   "language": "python",
   "name": "python3"
  },
  "language_info": {
   "codemirror_mode": {
    "name": "ipython",
    "version": 3
   },
   "file_extension": ".py",
   "mimetype": "text/x-python",
   "name": "python",
   "nbconvert_exporter": "python",
   "pygments_lexer": "ipython3",
   "version": "3.8.3"
  }
 },
 "nbformat": 4,
 "nbformat_minor": 4
}
